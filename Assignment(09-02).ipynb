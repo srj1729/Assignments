{
 "cells": [
  {
   "cell_type": "markdown",
   "id": "8b54563f-d263-443c-8176-2ef85f921f03",
   "metadata": {},
   "source": [
    "### <center> ASSIGNMENT"
   ]
  },
  {
   "cell_type": "markdown",
   "id": "e758381a-c11a-4073-b230-748490b3deb8",
   "metadata": {},
   "source": [
    "1. "
   ]
  },
  {
   "cell_type": "code",
   "execution_count": 9,
   "id": "4c5c592c-b098-4389-bdcb-37500a2ba9ec",
   "metadata": {},
   "outputs": [
    {
     "name": "stdout",
     "output_type": "stream",
     "text": [
      "Nano 180 40\n"
     ]
    }
   ],
   "source": [
    "class vehicle:\n",
    "    def __init__(self,name,speed,average):\n",
    "        self.name_of_vehicle=name\n",
    "        self.max_speed=speed\n",
    "        self.average_of_vehicle=average\n",
    "        \n",
    "    def view_details(self):\n",
    "        print(self.name_of_vehicle,self.max_speed,self.average_of_vehicle)\n",
    "        \n",
    "v1=vehicle(\"Nano\",180,40)\n",
    "v1.view_details()"
   ]
  },
  {
   "cell_type": "markdown",
   "id": "f8cd3aa8-03cb-454e-a71f-c0129a31322e",
   "metadata": {},
   "source": [
    "2. "
   ]
  },
  {
   "cell_type": "code",
   "execution_count": 10,
   "id": "f505836b-b384-4fb4-8fe9-e444c2c0a3b6",
   "metadata": {},
   "outputs": [
    {
     "name": "stdout",
     "output_type": "stream",
     "text": [
      "Nano 4\n"
     ]
    }
   ],
   "source": [
    "class car(vehicle):\n",
    "    def seating_capacity(self,capacity):\n",
    "        self.capacity=capacity\n",
    "        print(self.name_of_vehicle,self.capacity)\n",
    "        \n",
    "c1=car(\"Nano\",180,40)\n",
    "c1.seating_capacity(4)"
   ]
  },
  {
   "cell_type": "markdown",
   "id": "fa9123a4-bae1-40d5-a949-638748d46a63",
   "metadata": {},
   "source": [
    "3. "
   ]
  },
  {
   "cell_type": "code",
   "execution_count": 11,
   "id": "543cafdf-9a8b-4068-970f-3cbdc98349a1",
   "metadata": {},
   "outputs": [
    {
     "name": "stdout",
     "output_type": "stream",
     "text": [
      "Father: Rahul, Mother: Priya\n"
     ]
    }
   ],
   "source": [
    "'''\n",
    "Multiple Inheritance:\n",
    "When a class can be derived from more than one base class this type of inheritance is called multiple inheritances.\n",
    "In multiple inheritances, all the features of the base classes are inherited into the derived class.\n",
    "Ex-\n",
    "'''\n",
    "\n",
    "class Mother:\n",
    "    def mother(self,name):\n",
    "        self.fName=name\n",
    "        \n",
    "class Father:\n",
    "    def father(self,name):\n",
    "        self.mName=name\n",
    "        \n",
    "class Son(Mother, Father):\n",
    "    def getParentDetails(self):\n",
    "        print(\"Father:\",self.fName+\", Mother:\",self.mName)\n",
    "\n",
    "s1 = Son()\n",
    "s1.fName = \"Rahul\"\n",
    "s1.mName = \"Priya\"\n",
    "s1.getParentDetails()"
   ]
  },
  {
   "cell_type": "markdown",
   "id": "72a9c9fe-1d6a-4e31-876f-4e48432bf4b7",
   "metadata": {},
   "source": [
    "4. The main purpose of using getters and setters in object-oriented programs is to ensure data encapsulation. We use getters & setters to add validation logic around getting and setting a value to a class variable. It helps to avoid direct access of a class field i.e. private variables cannot be accessed directly or modified by external user.  \n",
    "Ex-"
   ]
  },
  {
   "cell_type": "code",
   "execution_count": 1,
   "id": "84233ce9-fffe-41cf-b31c-bfe44e19d7c8",
   "metadata": {},
   "outputs": [
    {
     "name": "stdout",
     "output_type": "stream",
     "text": [
      "21\n",
      "21\n"
     ]
    }
   ],
   "source": [
    "class Person:\n",
    "    def __init__(self, age = 0):\n",
    "         self._age = age\n",
    "      \n",
    "    # getter method\n",
    "    def get_age(self):\n",
    "        return self._age\n",
    "      \n",
    "    # setter method\n",
    "    def set_age(self, x):\n",
    "        self._age = x\n",
    "  \n",
    "p1 = Person()\n",
    "  \n",
    "# setting the age using setter\n",
    "p1.set_age(21)\n",
    "  \n",
    "# retrieving age using getter\n",
    "print(p1.get_age())\n",
    "  \n",
    "print(p1._age)"
   ]
  },
  {
   "cell_type": "markdown",
   "id": "f1ecfec5-98ac-48bd-b914-8032624d272e",
   "metadata": {},
   "source": [
    "5. Method overriding is a feature of in Python where the subclass or child class can provide the program with specific characteristics or a specific implementation process of data provided that are already defined in the parent class or superclass.  \n",
    "Ex-"
   ]
  },
  {
   "cell_type": "code",
   "execution_count": 2,
   "id": "7c10aad5-8445-4ab8-9d63-7ee997d7b1a7",
   "metadata": {},
   "outputs": [
    {
     "name": "stdout",
     "output_type": "stream",
     "text": [
      "Inside Meta\n",
      "Inside Facebook\n"
     ]
    }
   ],
   "source": [
    "class Meta():\n",
    "\t\n",
    "\t# Constructor\n",
    "\tdef __init__(self):\n",
    "\t\tself.value = \"Inside Meta\"\n",
    "        \n",
    "\tdef show(self):\n",
    "\t\tprint(self.value)\n",
    "\t\t\n",
    "class Facebook(Meta):\n",
    "\t\n",
    "\tdef __init__(self):\n",
    "\t\tself.value = \"Inside Facebook\"\n",
    "\t\t\n",
    "\tdef show(self):\n",
    "\t\tprint(self.value)\n",
    "\t\t\n",
    "\t\t\n",
    "# Driver's code\n",
    "o1 = Meta()\n",
    "o2 = Facebook()\n",
    "\n",
    "o1.show()\n",
    "o2.show()"
   ]
  }
 ],
 "metadata": {
  "kernelspec": {
   "display_name": "Python 3 (ipykernel)",
   "language": "python",
   "name": "python3"
  },
  "language_info": {
   "codemirror_mode": {
    "name": "ipython",
    "version": 3
   },
   "file_extension": ".py",
   "mimetype": "text/x-python",
   "name": "python",
   "nbconvert_exporter": "python",
   "pygments_lexer": "ipython3",
   "version": "3.10.8"
  }
 },
 "nbformat": 4,
 "nbformat_minor": 5
}
