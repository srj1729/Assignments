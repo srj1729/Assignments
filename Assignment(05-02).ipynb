{
 "cells": [
  {
   "cell_type": "markdown",
   "id": "ca5bc6de-2d34-4ded-8e73-c8e9b0b803ff",
   "metadata": {},
   "source": [
    "### <center> ASSIGNMENT"
   ]
  },
  {
   "cell_type": "markdown",
   "id": "ce0061f2-c72b-4f7b-9c91-363352e9732e",
   "metadata": {},
   "source": [
    "1. "
   ]
  },
  {
   "cell_type": "markdown",
   "id": "4c6c63c2-01b2-49f7-9da2-1cf0ebdcd087",
   "metadata": {},
   "source": [
    "A class is a user-defined blueprint or prototype from which objects are created. Classes provide a means of bundling data and functionality together.An Object is an instance of a Class. A class is like a blueprint while an instance is a copy of the class with actual values.\n",
    "Ex-"
   ]
  },
  {
   "cell_type": "code",
   "execution_count": 5,
   "id": "6fc87176-d330-42ed-bcd7-8c48d539d121",
   "metadata": {},
   "outputs": [
    {
     "data": {
      "text/plain": [
       "('Rahul', 12, 3)"
      ]
     },
     "execution_count": 5,
     "metadata": {},
     "output_type": "execute_result"
    }
   ],
   "source": [
    "#CLASS->\n",
    "class Student:\n",
    "    def __init__(self,name,roll,year):\n",
    "        self.name=name\n",
    "        self.roll=roll\n",
    "        self.year=year\n",
    "        \n",
    "    def getDetails(self):\n",
    "        return self.name,self.roll,self.year\n",
    "    \n",
    "#OBJECT->\n",
    "s1=Student(\"Rahul\",12,3)\n",
    "s1.getDetails()"
   ]
  },
  {
   "cell_type": "markdown",
   "id": "401213f4-8dbd-449d-b68e-df5f108c8a15",
   "metadata": {},
   "source": [
    "2. The four pillars of OOPS are-  \n",
    "Inheritance, Polymorphism, Encapsulation and Abstraction."
   ]
  },
  {
   "cell_type": "markdown",
   "id": "628d84a7-bdf7-4594-99de-1fd6df6fe818",
   "metadata": {},
   "source": [
    "3. The __init__ method is similar to constructors in C++ and Java. Constructors are used to initialize the object’s state. Like methods, a constructor also contains a collection of statements(i.e. instructions) that are executed at the time of Object creation.\n",
    "Ex-"
   ]
  },
  {
   "cell_type": "code",
   "execution_count": 9,
   "id": "ab15a2eb-47c0-48cc-959c-720df1090a71",
   "metadata": {},
   "outputs": [
    {
     "name": "stdout",
     "output_type": "stream",
     "text": [
      "Name: Aman Subject: Physics\n"
     ]
    }
   ],
   "source": [
    "class Teacher:\n",
    " \n",
    "    # init method or constructor\n",
    "    def __init__(self, name,subject):\n",
    "        self.name = name\n",
    "        self.subject = subject\n",
    " \n",
    "    # Sample Method\n",
    "    def intro(self):\n",
    "        print('Name:',self.name,'Subject:',self.subject)\n",
    " \n",
    " \n",
    "p = Teacher('Aman','Physics')\n",
    "p.intro()"
   ]
  },
  {
   "cell_type": "markdown",
   "id": "46753523-4f85-4325-bf94-6c2f741631b1",
   "metadata": {},
   "source": [
    "4. The self variable is used to represent the instance of the class. It works as a reference to the object. Python uses the self parameter to refer to instance attributes and methods of the class. In Python it is a convention that programmers tend to follow. It is basically a parameter in a method definition. However, you can use any other name in place of self."
   ]
  },
  {
   "cell_type": "markdown",
   "id": "e27314cb-ff73-4235-ba36-d6be1555545e",
   "metadata": {},
   "source": [
    "5. Inheritance is defined as the mechanism of inheriting the properties of the base class to the child class. There are five types of inheritance in Python-"
   ]
  },
  {
   "cell_type": "code",
   "execution_count": 16,
   "id": "d26e3760-bf00-4668-8749-35d5a8ffa065",
   "metadata": {},
   "outputs": [
    {
     "name": "stdout",
     "output_type": "stream",
     "text": [
      "This is Parent class.\n",
      "This is Child class.\n"
     ]
    }
   ],
   "source": [
    "'''\n",
    "i. Single Inheritance: Single inheritance enables a derived class to inherit properties from a single parent class.\n",
    "Ex-\n",
    "'''\n",
    "\n",
    "class Parent:\n",
    "    def func1(self):\n",
    "        print(\"This is Parent class.\")\n",
    "        \n",
    "class Child(Parent):\n",
    "    def func2(self):\n",
    "        print(\"This is Child class.\")\n",
    "\n",
    "c1 = Child()\n",
    "c1.func1()\n",
    "c1.func2()"
   ]
  },
  {
   "cell_type": "code",
   "execution_count": 14,
   "id": "1eb9cd9a-8572-4948-9855-0bc097d3f1d0",
   "metadata": {},
   "outputs": [
    {
     "name": "stdout",
     "output_type": "stream",
     "text": [
      "Father: Rahul, Mother: Priya\n"
     ]
    }
   ],
   "source": [
    "'''\n",
    "Multiple Inheritance:\n",
    "When a class can be derived from more than one base class this type of inheritance is called multiple inheritances.\n",
    "In multiple inheritances, all the features of the base classes are inherited into the derived class.\n",
    "Ex-\n",
    "'''\n",
    "\n",
    "class Mother:\n",
    "    def mother(self,name):\n",
    "        self.fName=name\n",
    "        \n",
    "class Father:\n",
    "    def father(self,name):\n",
    "        self.mName=name\n",
    "        \n",
    "class Son(Mother, Father):\n",
    "    def getParentDetails(self):\n",
    "        print(\"Father:\",self.fName+\", Mother:\",self.mName)\n",
    "\n",
    "s1 = Son()\n",
    "s1.fName = \"Rahul\"\n",
    "s1.mName = \"Priya\"\n",
    "s1.getParentDetails()"
   ]
  },
  {
   "cell_type": "code",
   "execution_count": 17,
   "id": "c4a64182-f6ce-4f78-a147-44ce9ada427f",
   "metadata": {},
   "outputs": [
    {
     "name": "stdout",
     "output_type": "stream",
     "text": [
      "Grandfather: Rahul, Father: Rohan\n"
     ]
    }
   ],
   "source": [
    "'''\n",
    "Multilevel Inheritance :\n",
    "In multilevel inheritance, features of the base class and the derived class are further inherited into the new derived class.\n",
    "This is similar to a relationship representing a child and a grandfather. \n",
    "Ex-\n",
    "'''\n",
    "\n",
    "class GrandFather:\n",
    "    def mother(self,name):\n",
    "        self.gName=name\n",
    "        \n",
    "class Father(GrandFather):\n",
    "    def father(self,name):\n",
    "        self.fName=name\n",
    "        \n",
    "class Son(Father):\n",
    "    def getParentDetails(self):\n",
    "        print(\"Grandfather:\",self.gName+\", Father:\",self.fName)\n",
    "\n",
    "s1 = Son()\n",
    "s1.gName = \"Rahul\"\n",
    "s1.fName = \"Rohan\"\n",
    "s1.getParentDetails()\n"
   ]
  },
  {
   "cell_type": "code",
   "execution_count": 20,
   "id": "c6fe9798-0279-4263-8782-953e5a237ce4",
   "metadata": {},
   "outputs": [
    {
     "name": "stdout",
     "output_type": "stream",
     "text": [
      "This is father\n",
      "This is son1\n",
      "This is father\n",
      "This is son2\n"
     ]
    }
   ],
   "source": [
    "'''\n",
    "Hierarchical Inheritance: \n",
    "When more than one derived class are created from a single base this type of inheritance is called hierarchical inheritance.\n",
    "Ex-\n",
    "'''\n",
    "        \n",
    "class Father:\n",
    "    def father(self):\n",
    "        print(\"This is father\")\n",
    "        \n",
    "class Son1(Father):\n",
    "    def son1(self):\n",
    "        print(\"This is son1\")\n",
    "        \n",
    "class Son2(Father):\n",
    "    def son2(self):\n",
    "        print(\"This is son2\")\n",
    "\n",
    "s1 = Son1()\n",
    "s2 = Son2()\n",
    "s1.father()\n",
    "s1.son1()\n",
    "s2.father()\n",
    "s2.son2()\n"
   ]
  },
  {
   "cell_type": "code",
   "execution_count": 21,
   "id": "40d60b96-0374-4928-b6ca-c95b12f041bc",
   "metadata": {},
   "outputs": [
    {
     "name": "stdout",
     "output_type": "stream",
     "text": [
      "This is father\n",
      "This is son1\n",
      "This is father\n",
      "This is mother\n",
      "This is son2\n"
     ]
    }
   ],
   "source": [
    "'''\n",
    "Hybrid Inheritance: \n",
    "Inheritance consisting of multiple types of inheritance is called hybrid inheritance.\n",
    "Ex-\n",
    "'''\n",
    "        \n",
    "class Father:\n",
    "    def father(self):\n",
    "        print(\"This is father\")\n",
    "        \n",
    "class Mother:\n",
    "    def mother(self):\n",
    "        print(\"This is mother\")\n",
    "        \n",
    "class Son1(Father):\n",
    "    def son1(self):\n",
    "        print(\"This is son1\")\n",
    "        \n",
    "class Son2(Father,Mother):\n",
    "    def son2(self):\n",
    "        print(\"This is son2\")\n",
    "\n",
    "s1 = Son1()\n",
    "s2 = Son2()\n",
    "s1.father()\n",
    "s1.son1()\n",
    "s2.father()\n",
    "s2.mother()\n",
    "s2.son2()"
   ]
  }
 ],
 "metadata": {
  "kernelspec": {
   "display_name": "Python 3 (ipykernel)",
   "language": "python",
   "name": "python3"
  },
  "language_info": {
   "codemirror_mode": {
    "name": "ipython",
    "version": 3
   },
   "file_extension": ".py",
   "mimetype": "text/x-python",
   "name": "python",
   "nbconvert_exporter": "python",
   "pygments_lexer": "ipython3",
   "version": "3.10.8"
  }
 },
 "nbformat": 4,
 "nbformat_minor": 5
}
