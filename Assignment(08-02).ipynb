{
 "cells": [
  {
   "cell_type": "markdown",
   "id": "9f574c55-809d-470f-9f13-8fe5ccd2530b",
   "metadata": {},
   "source": [
    "### <center> ASSIGNMENT"
   ]
  },
  {
   "cell_type": "markdown",
   "id": "d107daad-8b85-429c-bba3-c4115151ca95",
   "metadata": {},
   "source": [
    "1. Abstraction in OOPS means to hide the internal details and functionalities that are performing on the application using codes and to show only essential information (class attributes).  \n",
    "Ex-"
   ]
  },
  {
   "cell_type": "code",
   "execution_count": 3,
   "id": "737a2e74-4fc0-47e3-bfda-78fce123fa41",
   "metadata": {},
   "outputs": [
    {
     "name": "stdout",
     "output_type": "stream",
     "text": [
      "Gaurav Kumar\n",
      "12345 13 male\n",
      "None\n"
     ]
    }
   ],
   "source": [
    "class Person:\n",
    "    def __init__(self):\n",
    "        self.name = \"Gaurav Kumar\"\n",
    "\n",
    "    def info(self):\n",
    "        self.contact = \"12345\"\n",
    "        self.age = \"13\"\n",
    "        self.gender = \"male\"\n",
    "        print(self.contact, self.age, self.gender)\n",
    "        \n",
    "p1=Person()\n",
    "print(p1.name)\n",
    "print(p1.info())"
   ]
  },
  {
   "cell_type": "markdown",
   "id": "de561b0f-f455-408d-a0a7-907f829234a6",
   "metadata": {},
   "source": [
    "2. Abstraction is hiding the details and implementation of the code. It is a design level process. It is concerned about what a class instance can do, instead of the implementation of the class.\n",
    "Abstraction is used in mobile phones’ GUI. When you click on the icons, abstraction allows them to perform specific functions. \n",
    "Encapsulation is hiding the data and controlling the visibility of the code. It is an implementation level process. It helps in data binding and control over maintaining the transparency of the data.\n",
    "Using smartphones, you can perform tasks like capturing photos, recording audio/video, listening to music, accessing the web, etc. These features are common in all smartphones. You don’t have to understand the internal working of these features. So, it is a real-world example of encapsulation."
   ]
  },
  {
   "cell_type": "markdown",
   "id": "cf948325-eabc-47ff-a644-c7f8a720a37d",
   "metadata": {},
   "source": [
    "3. The main goal of the abstract base class is to provide a standardized way to test whether an object adheres to a given specification. It can also prevent any attempt to instantiate a subclass that doesn’t override a particular method in the superclass. ABCMeta metaclass provides a method called register method that can be invoked by its instance. By using this register method, any abstract base class can become an ancestor of any arbitrary concrete class.  \n",
    "Ex-"
   ]
  },
  {
   "cell_type": "code",
   "execution_count": 1,
   "id": "3431938d-e225-49ce-872f-0c3e0df53566",
   "metadata": {},
   "outputs": [
    {
     "name": "stdout",
     "output_type": "stream",
     "text": [
      "<class 'dict'>\n"
     ]
    }
   ],
   "source": [
    "import abc\n",
    "  \n",
    "  \n",
    "class AbstractClass(metaclass=abc.ABCMeta):\n",
    "    def abstractfunc(self):\n",
    "        return None\n",
    "  \n",
    "  \n",
    "print(AbstractClass.register(dict))"
   ]
  },
  {
   "cell_type": "markdown",
   "id": "c0db99c8-c097-4f08-b8d7-5bd65c6dbf23",
   "metadata": {},
   "source": [
    "4. Data Abstraction in Python can be achieved through creating abstract classes and inheriting them later. Abstract Classes are the classes that cannot be instantiated. This means that we cannot create objects of an abstract class and these are only meant to be inherited. Then an object of the derived class is used to access the features of the base class. These are specifically defined to lay a foundation of other classes that exhibit common behavior or characteristics.  "
   ]
  },
  {
   "cell_type": "markdown",
   "id": "e3f1a551-28ed-4800-8b56-829df7b67f15",
   "metadata": {},
   "source": [
    "5. "
   ]
  },
  {
   "cell_type": "code",
   "execution_count": 6,
   "id": "b9a0a966-960f-4f45-841e-39e4f25628d3",
   "metadata": {},
   "outputs": [
    {
     "name": "stdout",
     "output_type": "stream",
     "text": [
      "I am going to sleep in a while\n",
      "I can meow\n",
      "I can hiss\n"
     ]
    }
   ],
   "source": [
    "from abc import ABC,abstractmethod\n",
    " \n",
    "class Animal(ABC):\n",
    " \n",
    "    #concrete method\n",
    "    def sleep(self):\n",
    "        print(\"I am going to sleep in a while\")\n",
    " \n",
    "    @abstractmethod\n",
    "    def sound(self):\n",
    "        print(\"This function is for defining the sound by any animal\")\n",
    "        pass\n",
    " \n",
    "class Snake(Animal):\n",
    "    def sound(self):\n",
    "        print(\"I can hiss\")\n",
    " \n",
    "class Dog(Animal):\n",
    "    def sound(self):\n",
    "        print(\"I can bark\")\n",
    " \n",
    "class Lion(Animal):\n",
    "    def sound(self):\n",
    "        print(\"I can roar\")\n",
    "       \n",
    "class Cat(Animal):\n",
    "    def sound(self):\n",
    "        print(\"I can meow\")\n",
    "\n",
    "c = Cat()\n",
    "c.sleep()\n",
    "c.sound()\n",
    " \n",
    "c = Snake()\n",
    "c.sound()"
   ]
  }
 ],
 "metadata": {
  "kernelspec": {
   "display_name": "Python 3 (ipykernel)",
   "language": "python",
   "name": "python3"
  },
  "language_info": {
   "codemirror_mode": {
    "name": "ipython",
    "version": 3
   },
   "file_extension": ".py",
   "mimetype": "text/x-python",
   "name": "python",
   "nbconvert_exporter": "python",
   "pygments_lexer": "ipython3",
   "version": "3.10.8"
  }
 },
 "nbformat": 4,
 "nbformat_minor": 5
}
