{
 "cells": [
  {
   "cell_type": "markdown",
   "id": "ce8cdb6e-efd3-4f5b-8f45-c292f61069ae",
   "metadata": {},
   "source": [
    "### <center> ASSIGNMENT"
   ]
  },
  {
   "cell_type": "markdown",
   "id": "fa284f6c-a41a-41ee-8d36-b4dc29c062cc",
   "metadata": {},
   "source": [
    "1. Multithreading is a threading technique in Python programming to run multiple threads concurrently by rapidly switching between threads with a CPU help (called context switching). Besides, it allows sharing of its data space with the main threads inside a process that share information and communication with other threads easier than individual processes. Multithreading aims to perform multiple tasks simultaneously, which increases performance, speed and improves the rendering of the application.There are two main modules of multithreading used to handle threads in Python-  \n",
    "i. The thread module  \n",
    "ii. The threading module"
   ]
  },
  {
   "cell_type": "markdown",
   "id": "21e7209f-ea55-449d-8366-13698da751a2",
   "metadata": {},
   "source": [
    "2. The threading module included with Python 2.4 provides much more powerful, high-level support for threads.  \n",
    "The use of the given functions are-  \n",
    "activeCount() : Returns the number of thread objects that are active.  \n",
    "currentThread() : Returns the number of thread objects in the caller's thread control.  \n",
    "enumerate() : Returns a list of all thread objects that are currently active.  "
   ]
  },
  {
   "cell_type": "markdown",
   "id": "6744d98e-710b-4747-af4e-abaa166132eb",
   "metadata": {},
   "source": [
    "3. run() : The run() method is the entry point for a thread.  \n",
    "start() : The start() method starts a thread by calling the run method.  \n",
    "join : The join() waits for threads to terminate.  \n",
    "isAlive() : The isAlive() method checks whether a thread is still executing."
   ]
  },
  {
   "cell_type": "markdown",
   "id": "4403292c-a6d0-48ca-ba94-92c9dcbc3340",
   "metadata": {},
   "source": [
    "4. "
   ]
  },
  {
   "cell_type": "code",
   "execution_count": 9,
   "id": "a95aa737-ce8c-4fcc-bbdb-4d3576656421",
   "metadata": {},
   "outputs": [
    {
     "name": "stdout",
     "output_type": "stream",
     "text": [
      "4\n",
      "9\n",
      "25\n",
      "49\n",
      "8\n",
      "27\n",
      "125\n",
      "343\n"
     ]
    }
   ],
   "source": [
    "import threading\n",
    "\n",
    "def square(num):\n",
    "\tprint(num**2)\n",
    "    \n",
    "def cube(num):\n",
    "\tprint(num**3)\n",
    "\n",
    "l=[2,3,5,7]\n",
    "\n",
    "thread1 = [threading.Thread(target=square, args=(l[i],)) for i in range(0,len(l))]\n",
    "thread2 = [threading.Thread(target=cube, args=(l[i],)) for i in range(0,len(l))]\n",
    "\n",
    "for t in thread1:\n",
    "    t.start()\n",
    "    \n",
    "for t in thread2:\n",
    "    t.start()"
   ]
  },
  {
   "cell_type": "markdown",
   "id": "7d858a96-25f8-49fd-8525-9bc1562a9884",
   "metadata": {},
   "source": [
    "5. Advantages of multithreading:   \n",
    "i. Multithreading in an interactive application enables a program to continue running even if a section is blocked or executing a lengthy process, increasing user responsiveness.  \n",
    "ii. Allows resource sharing.  \n",
    "iii. Alows scalibility when there are multiprocessors, since in the case of multiprocessor architecture, when threads may execute in parallel on many processors.  \n",
    "iv. Allocating memory and resources for process creation is an expensive procedure because it is a time and space-consuming task.Because threads share a memory with the process to which they belong, establishing and context switching threads is more cost-effective.  \n",
    "v. Threads have a minimal influence on the system's resources. The overhead of creating, maintaining, and managing threads is lower than a general process.  \n",
    "Disadvantages of multithreading:  \n",
    "i. It needs more careful synchronization.  \n",
    "ii. It can consume a large space of stocks of blocked threads.  \n",
    "iii. It needs support for thread or process.  \n",
    "iv. If a parent process has several threads for proper process functioning, the child processes should also be multithreaded because they may be required.  \n",
    "v. It imposes context switching overhead.  "
   ]
  },
  {
   "cell_type": "markdown",
   "id": "46cb87ac-da7d-4a29-90d5-7e04f30d2726",
   "metadata": {},
   "source": [
    "6. Deadlocks - In this condition two threads hold locks on different resources, each waiting indefinitely for the other to release its lock. This usually occurs when two processes are waiting for shared resources acquired by others. For example, If thread T1 acquired resource R1 and it also needs resource R2 for it to accomplish its task. But the resource R2 is acquired by thread T2 which is waiting for resource R1(which is acquired by T1). Neither of them will be able to accomplish its task, as they keep waiting for the other resources they need.  \n",
    "Race condition - In this condition two or more threads alter the state of a shared resource concurrently, leaving it in an unpredictable state. For example, if two processes/threads are trying to execute the following conditions simultaneously, they cause data corruption:  \n",
    "Thread 1:  \n",
    "total = num1 + num2  \n",
    "Thread 2:  \n",
    "total = num1 - num2  "
   ]
  }
 ],
 "metadata": {
  "kernelspec": {
   "display_name": "Python 3 (ipykernel)",
   "language": "python",
   "name": "python3"
  },
  "language_info": {
   "codemirror_mode": {
    "name": "ipython",
    "version": 3
   },
   "file_extension": ".py",
   "mimetype": "text/x-python",
   "name": "python",
   "nbconvert_exporter": "python",
   "pygments_lexer": "ipython3",
   "version": "3.10.8"
  }
 },
 "nbformat": 4,
 "nbformat_minor": 5
}
