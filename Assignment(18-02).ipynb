{
 "cells": [
  {
   "cell_type": "markdown",
   "id": "42bd2dfe-4380-47a1-8b4c-caba04578e01",
   "metadata": {},
   "source": [
    "### <center> ASSIGNMENT"
   ]
  },
  {
   "cell_type": "markdown",
   "id": "a50f04fb-2334-465a-9d6f-0e00b5ed29cc",
   "metadata": {},
   "source": [
    "1. API stands for “Application Programming Interface.” An API is a software intermediary that allows two applications to talk to each other. In other words, an API is the messenger that delivers your request to the provider that you're requesting it from and then delivers the response back to you.  \n",
    "Ex- Weather apps that we use get data from api which provide info about weather conditions."
   ]
  },
  {
   "cell_type": "markdown",
   "id": "4cdebf12-206d-4a18-9389-334c6331c811",
   "metadata": {},
   "source": [
    "2. Advantages of using API-  \n",
    "i. It allows you to share your data and functionality with a broader audience.  \n",
    "ii. It makes it easy to integrate with other applications and services, saving you time and money.  \n",
    "iii. It allows you to access data and functionality without navigating multiple menus or screens. This can speed up the development process and make your app or website more user-friendly.  \n",
    "iv. It reduces the amount of work needed on the back-end, making maintenance and updates more effortless and less time-consuming.  \n",
    "v. It allows developers to reuse code and functionality in multiple applications, saving time and money.  \n",
    "Disadvantages of using API-  \n",
    "i. They can be complex and challenging to use, making them challenging for novice developers.  \n",
    "ii. They may not have all the functionality you need, requiring additional development work.  \n",
    "iii. If it depends on a third-party service, your application will also be unavailable.  \n",
    "iv. They can pose security and privacy risks if they’re not implemented correctly. Therefore, it’s essential to carefully consider these risks before using them in your application."
   ]
  },
  {
   "cell_type": "markdown",
   "id": "db11f219-1e3b-40fd-b5e9-fd56ba007634",
   "metadata": {},
   "source": [
    "3. API is an interface that exposes an application's data to outside software, whereas web applications are one type of API with stricter requirements. API is the broader category because, by definition, it refers to any software component that acts as an intermediary between two otherwise disconnected applications. Since Web APIs are designed to share data with other disconnected applications, this qualifies them as APIs. However, a Web API is just a way you can implement an API."
   ]
  },
  {
   "cell_type": "markdown",
   "id": "14357680-578f-48b8-aac4-eb2fb2ae9a46",
   "metadata": {},
   "source": [
    "4.\n",
    "\n",
    "REST-  \n",
    "Representational State Transfer (REST) is an architectural style that defines a set of constraints to be used for creating web services. REST API is a way of accessing web services in a simple and flexible way without having any processing. A request is sent from client to server in the form of a web URL as HTTP GET or POST or PUT or DELETE request. After that, a response comes back from the server in the form of a resource which can be anything like HTML, XML, Image, or JSON. But now JSON is the most popular format being used in Web Services.  \n",
    "\n",
    "SOAP-  \n",
    "SOAP is an acronym for Simple Object Access Protocol. It is an XML-based messaging protocol for exchanging information among computers. SOAP is an application of the XML specification. Although SOAP can be used in a variety of messaging systems and can be delivered via a variety of transport protocols, the initial focus of SOAP is remote procedure calls transported via HTTP.  \n",
    "\n",
    "Shortcomings of SOAP-  \n",
    "As SOAP can only transfer messages as XML files, SOAP API is less performant, as XML is a verbose format compared to JSON. API calls made to server need more bandwidth and take more time to process the request and transfer the response back to the client. SOAP also has a higher learning curve, is harder to code, and can’t be tested in the web browser (as opposed to REST). "
   ]
  },
  {
   "cell_type": "markdown",
   "id": "558ffd3f-fa19-4032-9a77-304748dcbc15",
   "metadata": {},
   "source": [
    "5. Differences Between REST and SOAP are-\n",
    "i. SOAP stands for Simple Object Access Protocol whereas REST stands for Representational State Transfer.  \n",
    "ii. SOAP is a protocol whereas REST is an architectural pattern.  \n",
    "iii. SOAP uses service interfaces to expose its functionality to client applications while REST uses Uniform Service locators to access to the components on the hardware device.  \n",
    "iv. SOAP needs more bandwidth for its usage whereas REST doesn’t need much bandwidth.  \n",
    "v. Comparing SOAP vs REST API, SOAP only works with XML formats whereas REST work with plain text, XML, HTML and JSON.  \n",
    "vi. SOAP cannot make use of REST whereas REST can make use of SOAP.  "
   ]
  }
 ],
 "metadata": {
  "kernelspec": {
   "display_name": "Python 3 (ipykernel)",
   "language": "python",
   "name": "python3"
  },
  "language_info": {
   "codemirror_mode": {
    "name": "ipython",
    "version": 3
   },
   "file_extension": ".py",
   "mimetype": "text/x-python",
   "name": "python",
   "nbconvert_exporter": "python",
   "pygments_lexer": "ipython3",
   "version": "3.10.8"
  }
 },
 "nbformat": 4,
 "nbformat_minor": 5
}
