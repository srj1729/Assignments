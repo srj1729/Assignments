{
 "cells": [
  {
   "cell_type": "markdown",
   "id": "25e890b5-c012-447f-b1bf-1b1b963f165e",
   "metadata": {},
   "source": [
    "### <center> ASSIGNMENT"
   ]
  },
  {
   "cell_type": "markdown",
   "id": "436bdbcf-d952-4e59-ba75-c94d287d0d5d",
   "metadata": {},
   "source": [
    "1. In Python, we use the open() method to open files. There are 6 access modes in python-  \n",
    "Read Only (‘r’) : Opens file for reading. The handle is positioned at the beginning of the file. This is also the default mode in which a file is opened.  \n",
    "Read and Write (‘r+’): Opens the file for reading and writing. The handle is positioned at the beginning of the file.  \n",
    "Write Only (‘w’) : Opens the file for writing. For the existing files, the data is truncated and over-written. The handle is positioned at the beginning of the file. Creates the file if the file does not exist.  \n",
    "Write and Read (‘w+’) : Opens the file for reading and writing. For an existing file, data is truncated and over-written. The handle is positioned at the beginning of the file.  \n",
    "Append Only (‘a’): Opens the file for writing. The file is created if it does not exist. The handle is positioned at the end of the file. The data being written will be inserted at the end, after the existing data.  \n",
    "Append and Read (‘a+’) : Opens the file for reading and writing. The file is created if it does not exist. The handle is positioned at the end of the file. The data being written will be inserted at the end, after the existing data."
   ]
  },
  {
   "cell_type": "markdown",
   "id": "afc02374-cf77-4719-a4b7-8e08d6e89f75",
   "metadata": {},
   "source": [
    "2. The close() method is used to close an open file in Python. It is important to close files because files are limited resources managed by the operating system, making sure files are closed after use will protect against hard-to-debug issues like running out of file handles or experiencing corrupted data."
   ]
  },
  {
   "cell_type": "markdown",
   "id": "d1ca62dd-7d35-45bd-81da-88ced1afd391",
   "metadata": {},
   "source": [
    "3. "
   ]
  },
  {
   "cell_type": "code",
   "execution_count": 3,
   "id": "ba37bbbf-6d4e-4a1b-9c4b-33641867c7cf",
   "metadata": {},
   "outputs": [
    {
     "name": "stdout",
     "output_type": "stream",
     "text": [
      "I want to become a data scientist\n"
     ]
    }
   ],
   "source": [
    "f = open(\"newfile.txt\",\"w\")\n",
    "f.write(\"I want to become a data scientist.\")\n",
    "f.close()\n",
    "f = open(\"newfile.txt\",\"r\")\n",
    "print(f.read())\n",
    "f.close()"
   ]
  },
  {
   "cell_type": "markdown",
   "id": "45ca4132-0aac-4ca2-b946-3448e29e2ac7",
   "metadata": {},
   "source": [
    "4. "
   ]
  },
  {
   "cell_type": "markdown",
   "id": "87a865d2-696d-4ea6-8072-57827d11fc94",
   "metadata": {},
   "source": [
    "read() : Returns the read bytes in form of a string. Reads n bytes, if no n specified, reads the entire file.  \n",
    "readline() : Reads a line of the file and returns in form of a string.For specified n, reads at most n bytes. However, does not reads more than one line, even if n exceeds the length of the line.  \n",
    "readlines() : Reads all the lines and return them as each line a string element in a list.  \n",
    "Ex-"
   ]
  },
  {
   "cell_type": "code",
   "execution_count": 6,
   "id": "2c0c47b1-78f1-4f0c-be5e-b2ae874211e8",
   "metadata": {},
   "outputs": [
    {
     "name": "stdout",
     "output_type": "stream",
     "text": [
      "Hello \n",
      "This is Car \n",
      "This is Bus \n",
      "This is Truck \n",
      "\n",
      "Hello \n",
      "Thi\n",
      "\n",
      "Hello \n",
      "\n",
      "Hello \n",
      "\n",
      "['Hello \\n', 'This is Car \\n', 'This is Bus \\n', 'This is Truck \\n']\n"
     ]
    }
   ],
   "source": [
    "file1 = open(\"newfile1.txt\", \"w\")\n",
    "text = [\"This is Car \\n\", \"This is Bus \\n\", \"This is Truck \\n\"]\n",
    "\n",
    "file1.write(\"Hello \\n\")\n",
    "file1.writelines(text)\n",
    "\n",
    "file1.close()\n",
    "\n",
    "file1 = open(\"newfile1.txt\", \"r+\")\n",
    "\n",
    "#read() function\n",
    "\n",
    "print(file1.read())\n",
    "file1.seek(0)\n",
    "print(file1.read(10))\n",
    "print()\n",
    "\n",
    "#readline() function\n",
    "\n",
    "file1.seek(0)\n",
    "print(file1.readline())\n",
    "file1.seek(0)\n",
    "print(file1.readline(10))\n",
    "\n",
    "#readlines() function\n",
    "file1.seek(0)\n",
    "print(file1.readlines())\n",
    "\n",
    "file1.close()"
   ]
  },
  {
   "cell_type": "markdown",
   "id": "7e8ce060-2876-4b37-83a0-cb3837c2659b",
   "metadata": {},
   "source": [
    "5. "
   ]
  },
  {
   "cell_type": "markdown",
   "id": "71e17b37-5c97-49b0-a55e-14e923ace956",
   "metadata": {},
   "source": [
    "with statement in Python is used in exception handling to make the code cleaner and much more readable. It simplifies the management of common resources like file streams. The advantage of using with statement and open() together is that when they are used together, there is no need to call file.close(). The with statement itself ensures proper acquisition and release of resources. "
   ]
  },
  {
   "cell_type": "markdown",
   "id": "8dde3c22-8e8a-4fbe-9c86-bf1c07fc4c39",
   "metadata": {},
   "source": [
    "6. "
   ]
  },
  {
   "cell_type": "markdown",
   "id": "29515d9b-5937-4f04-9f31-8c0d2077f3c9",
   "metadata": {},
   "source": [
    "write() function-  \n",
    "The write() function writes the content in the file without adding any extra characters. The string that is passed to the write() function is written into the opened file. The string may include numbers, special characters, or symbols. While writing data to a file, the write function does not add a newline character(\\n) to the end of the string.\n",
    "\n",
    "writelines() function-  \n",
    "This function writes the content of a list to a file. The list of strings that is passed to the writelines() function is written into the opened file. Similar to the write() function, the writelines() function does not add a newline character(\\n) to the end of the string.\n",
    "\n",
    "Ex-"
   ]
  },
  {
   "cell_type": "code",
   "execution_count": 13,
   "id": "90835dfb-ead6-4512-871e-73f969df8e6a",
   "metadata": {},
   "outputs": [
    {
     "name": "stdout",
     "output_type": "stream",
     "text": [
      "0\n",
      "1\n",
      "2\n",
      "\n",
      "0\n",
      "1\n",
      "2\n",
      "\n"
     ]
    }
   ],
   "source": [
    "#write() function-\n",
    "\n",
    "file2 = open(\"newfile2.txt\", \"w\")\n",
    "  \n",
    "for i in range(3):\n",
    "    file2.write(str(i))\n",
    "    file2.write(\"\\n\")\n",
    "     \n",
    "file2.close()\n",
    "\n",
    "file2 = open(\"newfile2.txt\", \"r+\")\n",
    "\n",
    "print(file2.read())\n",
    "\n",
    "file2.close()\n",
    "\n",
    "#writelines() function-\n",
    "\n",
    "file2 = open(\"newfile2.txt\", \"w\")\n",
    "lst=[]\n",
    "for i in range(3):\n",
    "    lst.append(str(i)+\"\\n\")\n",
    "file2.writelines(lst)\n",
    "\n",
    "file2.close()\n",
    "\n",
    "file2 = open(\"newfile2.txt\", \"r+\")\n",
    "\n",
    "print(file2.read())\n",
    "\n",
    "file2.close()"
   ]
  }
 ],
 "metadata": {
  "kernelspec": {
   "display_name": "Python 3 (ipykernel)",
   "language": "python",
   "name": "python3"
  },
  "language_info": {
   "codemirror_mode": {
    "name": "ipython",
    "version": 3
   },
   "file_extension": ".py",
   "mimetype": "text/x-python",
   "name": "python",
   "nbconvert_exporter": "python",
   "pygments_lexer": "ipython3",
   "version": "3.10.8"
  }
 },
 "nbformat": 4,
 "nbformat_minor": 5
}
