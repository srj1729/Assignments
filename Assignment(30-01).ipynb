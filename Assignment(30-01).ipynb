{
 "cells": [
  {
   "cell_type": "markdown",
   "id": "ae1c8232-b0ca-41c3-afb0-9657886c9bb7",
   "metadata": {},
   "source": [
    "### <center> ASSIGNMENT"
   ]
  },
  {
   "cell_type": "markdown",
   "id": "9336d2f0-68f1-4350-b1ab-51b85cd73efd",
   "metadata": {},
   "source": [
    "1."
   ]
  },
  {
   "cell_type": "code",
   "execution_count": 2,
   "id": "83135cfa-97ac-4e6a-b03c-e529c854ed4e",
   "metadata": {},
   "outputs": [
    {
     "name": "stdin",
     "output_type": "stream",
     "text": [
      " 85\n"
     ]
    },
    {
     "name": "stdout",
     "output_type": "stream",
     "text": [
      "B\n"
     ]
    }
   ],
   "source": [
    "percent=int(input())\n",
    "if percent>90:\n",
    "    grade='A'\n",
    "elif percent>80 and percent<=90:\n",
    "    grade='B'\n",
    "elif percent>=60 and percent<=80:\n",
    "    grade='C'\n",
    "else:\n",
    "    grade='D'\n",
    "print(grade)"
   ]
  },
  {
   "cell_type": "markdown",
   "id": "8e45e28c-4ab9-4e24-b495-8c1f8299c81c",
   "metadata": {},
   "source": [
    "2. "
   ]
  },
  {
   "cell_type": "code",
   "execution_count": 4,
   "id": "46389c42-3dad-497c-b198-5ed5ae3bed5e",
   "metadata": {},
   "outputs": [
    {
     "name": "stdin",
     "output_type": "stream",
     "text": [
      " 50002\n"
     ]
    },
    {
     "name": "stdout",
     "output_type": "stream",
     "text": [
      "10%\n"
     ]
    }
   ],
   "source": [
    "price=int(input())\n",
    "if price>100000:\n",
    "    tax='15%'\n",
    "elif price>50000 and price<=100000:\n",
    "    tax='10%'\n",
    "else:\n",
    "    tax='5%'\n",
    "print(tax)"
   ]
  },
  {
   "cell_type": "markdown",
   "id": "0fde86c2-c3aa-4082-8290-485868913b8a",
   "metadata": {},
   "source": [
    "3. "
   ]
  },
  {
   "cell_type": "code",
   "execution_count": 1,
   "id": "310a5de4-ec1c-46b3-9642-f3fb4ea9be80",
   "metadata": {},
   "outputs": [
    {
     "name": "stdin",
     "output_type": "stream",
     "text": [
      " Delhi\n"
     ]
    },
    {
     "name": "stdout",
     "output_type": "stream",
     "text": [
      "Red Fort\n"
     ]
    }
   ],
   "source": [
    "monument={'Delhi':'Red Fort','Agra':'Taj Mahal','Jaipur':'Jal Mahal'}\n",
    "city=input()\n",
    "print(monument[city])"
   ]
  },
  {
   "cell_type": "markdown",
   "id": "60073a9b-3073-4966-815e-fcad83f350d1",
   "metadata": {},
   "source": [
    "4. "
   ]
  },
  {
   "cell_type": "code",
   "execution_count": 5,
   "id": "a22ede56-20cf-4b68-ad9f-112396700e12",
   "metadata": {},
   "outputs": [
    {
     "name": "stdin",
     "output_type": "stream",
     "text": [
      " 30\n"
     ]
    },
    {
     "name": "stdout",
     "output_type": "stream",
     "text": [
      "1\n"
     ]
    }
   ],
   "source": [
    "count=0\n",
    "num=int(input())\n",
    "while num>10:\n",
    "    num/=3\n",
    "    count+=1\n",
    "print(count)"
   ]
  },
  {
   "cell_type": "markdown",
   "id": "9a9cbadc-19e6-4f36-b599-1c9c026ad312",
   "metadata": {},
   "source": [
    "5. "
   ]
  },
  {
   "cell_type": "markdown",
   "id": "8bb158a1-f162-4982-9313-7e5f5ab5b4ee",
   "metadata": {},
   "source": [
    "Python while loop is used to run a block code until a certain condition is met. Here, A while loop evaluates the condition. If the condition evaluates to True , the code inside the while loop is executed. While loop falls under the category of indefinite iteration. Indefinite iteration means that the number of times the loop is executed isn’t specified explicitly in advance. So, the while loop can be used in such cases."
   ]
  },
  {
   "cell_type": "markdown",
   "id": "a98e8f46-a59a-493e-9eb4-1cf398f03b4f",
   "metadata": {},
   "source": [
    "6. "
   ]
  },
  {
   "cell_type": "code",
   "execution_count": 11,
   "id": "d30a1a34-d1f9-4b1c-a288-7c2472ebd81b",
   "metadata": {},
   "outputs": [
    {
     "name": "stdin",
     "output_type": "stream",
     "text": [
      " 5\n"
     ]
    },
    {
     "name": "stdout",
     "output_type": "stream",
     "text": [
      "Pattern 1:\n",
      "*\n",
      "**\n",
      "***\n",
      "****\n",
      "*****\n"
     ]
    }
   ],
   "source": [
    "num=int(input())\n",
    "i=1\n",
    "print(\"Pattern 1:\")\n",
    "while i<=num:\n",
    "    j=1\n",
    "    while j<=i:\n",
    "        print('*',end='')\n",
    "        j+=1\n",
    "    print()\n",
    "    i+=1"
   ]
  },
  {
   "cell_type": "code",
   "execution_count": 12,
   "id": "c9963867-df37-4aa7-a9f6-16930f6142b6",
   "metadata": {},
   "outputs": [
    {
     "name": "stdin",
     "output_type": "stream",
     "text": [
      " 5\n"
     ]
    },
    {
     "name": "stdout",
     "output_type": "stream",
     "text": [
      "Pattern 2:\n",
      "*****\n",
      "****\n",
      "***\n",
      "**\n",
      "*\n",
      "\n"
     ]
    }
   ],
   "source": [
    "num=int(input())\n",
    "i=num\n",
    "print(\"Pattern 2:\")\n",
    "while i>=0:\n",
    "    j=1\n",
    "    while j<=i:\n",
    "        print('*',end='')\n",
    "        j+=1\n",
    "    print()\n",
    "    i-=1"
   ]
  },
  {
   "cell_type": "code",
   "execution_count": 14,
   "id": "6ac608cc-8e72-4ff6-8ff1-48f72143613a",
   "metadata": {},
   "outputs": [
    {
     "name": "stdin",
     "output_type": "stream",
     "text": [
      " 5\n"
     ]
    },
    {
     "name": "stdout",
     "output_type": "stream",
     "text": [
      "Pattern 3:\n",
      "    *    \n",
      "   ***   \n",
      "  *****  \n",
      " ******* \n",
      "*********\n"
     ]
    }
   ],
   "source": [
    "num=int(input())\n",
    "i=1\n",
    "print(\"Pattern 3:\")\n",
    "while i<=num:\n",
    "    j=1\n",
    "    while j<=2*num-1:\n",
    "        if(j>=num-i+1 and j<=num+i-1):\n",
    "            print('*',end='')\n",
    "        else:\n",
    "            print(' ',end='')\n",
    "        j+=1\n",
    "    print()\n",
    "    i+=1"
   ]
  },
  {
   "cell_type": "markdown",
   "id": "1805e685-74ad-4e7e-9cf2-5ced855b6921",
   "metadata": {},
   "source": [
    "7. "
   ]
  },
  {
   "cell_type": "code",
   "execution_count": 15,
   "id": "44d3137f-6bfd-47f5-8344-2e0013af0a0d",
   "metadata": {},
   "outputs": [
    {
     "name": "stdout",
     "output_type": "stream",
     "text": [
      "10 9 8 7 6 5 4 3 2 1 "
     ]
    }
   ],
   "source": [
    "num=10\n",
    "while num>=1:\n",
    "    print(num,end=' ')\n",
    "    num-=1"
   ]
  },
  {
   "cell_type": "markdown",
   "id": "f31dbc69-94eb-4abc-aed7-067f98d41ef8",
   "metadata": {},
   "source": [
    "8. "
   ]
  },
  {
   "cell_type": "code",
   "execution_count": 17,
   "id": "da054c01-5abd-413e-aad7-a5d959a43e76",
   "metadata": {},
   "outputs": [
    {
     "name": "stdout",
     "output_type": "stream",
     "text": [
      "10 9 8 7 6 5 4 3 2 1 "
     ]
    }
   ],
   "source": [
    "num=10\n",
    "while num>=1:\n",
    "    print(num,end=' ')\n",
    "    num-=1"
   ]
  }
 ],
 "metadata": {
  "kernelspec": {
   "display_name": "Python 3 (ipykernel)",
   "language": "python",
   "name": "python3"
  },
  "language_info": {
   "codemirror_mode": {
    "name": "ipython",
    "version": 3
   },
   "file_extension": ".py",
   "mimetype": "text/x-python",
   "name": "python",
   "nbconvert_exporter": "python",
   "pygments_lexer": "ipython3",
   "version": "3.10.8"
  }
 },
 "nbformat": 4,
 "nbformat_minor": 5
}
