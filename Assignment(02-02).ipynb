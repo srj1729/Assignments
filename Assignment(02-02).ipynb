{
 "cells": [
  {
   "cell_type": "markdown",
   "id": "8225a07b-4273-4976-a4e0-25b43f16c033",
   "metadata": {},
   "source": [
    "### <center> ASSIGNMENT"
   ]
  },
  {
   "cell_type": "markdown",
   "id": "6189761a-fff4-417c-96b0-fac4eb62a6aa",
   "metadata": {},
   "source": [
    "1. The for loop is used when we already know the number of iterations, which means when we know how many times a statement has to be executed. In while loop the program runs until a specific condition is met which is specified. As soon as the condition evaluates to false the loop stops to execute."
   ]
  },
  {
   "cell_type": "code",
   "execution_count": 7,
   "id": "0886c239-6524-44e2-bb82-9b23fe135869",
   "metadata": {},
   "outputs": [
    {
     "name": "stdout",
     "output_type": "stream",
     "text": [
      "0\n",
      "1\n",
      "2\n",
      "3\n",
      "4\n"
     ]
    }
   ],
   "source": [
    "#For Loop-\n",
    "for i in (range(5)):\n",
    "    print(i)"
   ]
  },
  {
   "cell_type": "code",
   "execution_count": 8,
   "id": "46e7d2ab-3384-44fe-9b2f-8149dd1ce17b",
   "metadata": {},
   "outputs": [
    {
     "name": "stdout",
     "output_type": "stream",
     "text": [
      "0\n",
      "1\n",
      "2\n",
      "3\n",
      "4\n"
     ]
    }
   ],
   "source": [
    "#While loop-\n",
    "i=0\n",
    "while i<5:\n",
    "    print(i)\n",
    "    i+=1"
   ]
  },
  {
   "cell_type": "markdown",
   "id": "c550f67a-06a9-4694-926c-0c6c431659d6",
   "metadata": {},
   "source": [
    "2. "
   ]
  },
  {
   "cell_type": "code",
   "execution_count": 11,
   "id": "6474bc19-5ca2-4697-8949-843e30df85e1",
   "metadata": {},
   "outputs": [
    {
     "name": "stdout",
     "output_type": "stream",
     "text": [
      "55 3628800\n"
     ]
    }
   ],
   "source": [
    "#Using For Loop-\n",
    "sum=0\n",
    "product=1\n",
    "for i in range(1,11):\n",
    "    sum+=i\n",
    "    product*=i\n",
    "print(sum,product)"
   ]
  },
  {
   "cell_type": "code",
   "execution_count": 12,
   "id": "52827fd6-ac1a-4982-8e62-f80aaf6500d5",
   "metadata": {},
   "outputs": [
    {
     "name": "stdout",
     "output_type": "stream",
     "text": [
      "55 3628800\n"
     ]
    }
   ],
   "source": [
    "#Using While Loop-\n",
    "sum=0\n",
    "product=1\n",
    "i=1\n",
    "while i<=10:\n",
    "    sum+=i\n",
    "    product*=i\n",
    "    i+=1\n",
    "print(sum,product)"
   ]
  },
  {
   "cell_type": "markdown",
   "id": "d62694cb-c2f9-4902-8ec2-fd446c7ba2de",
   "metadata": {},
   "source": [
    "3. "
   ]
  },
  {
   "cell_type": "code",
   "execution_count": 13,
   "id": "0e0d1395-d8b6-46d1-974d-16d3cba5d656",
   "metadata": {},
   "outputs": [
    {
     "name": "stdin",
     "output_type": "stream",
     "text": [
      " 310\n"
     ]
    },
    {
     "name": "stdout",
     "output_type": "stream",
     "text": [
      "2250.0\n"
     ]
    }
   ],
   "source": [
    "units=int(input())\n",
    "cost=0\n",
    "if units>300:\n",
    "    cost=(20*(units-300))+(10*100)+(6*100)+(4.5*100)\n",
    "elif units>200:\n",
    "    cost=(10*100)+(6*100)+(4.5*100)\n",
    "elif units>100:\n",
    "    cost=(6*100)+(4.5*100)\n",
    "else:\n",
    "    cost=(4.5*100)\n",
    "print(cost)"
   ]
  },
  {
   "cell_type": "markdown",
   "id": "3aee12ba-42da-474d-98af-7fbebf515480",
   "metadata": {},
   "source": [
    "4. "
   ]
  },
  {
   "cell_type": "code",
   "execution_count": 14,
   "id": "f0418899-1709-494d-8c62-1407679c85bb",
   "metadata": {},
   "outputs": [
    {
     "name": "stdout",
     "output_type": "stream",
     "text": [
      "[2, 4, 5, 6, 8, 10, 12, 14, 15, 16, 18, 20, 22, 24, 25, 26, 28, 30, 32, 34, 35, 36, 38, 40, 42, 44, 45, 46, 48, 50, 52, 54, 55, 56, 58, 60, 62, 64, 65, 66, 68, 70, 72, 74, 75, 76, 78, 80, 82, 84, 85, 86, 88, 90, 92, 94, 95, 96, 98, 100]\n"
     ]
    }
   ],
   "source": [
    "#Using for loop-\n",
    "numbers=list(range(1,101))\n",
    "result=[]\n",
    "for i in numbers:\n",
    "    cube=i**3\n",
    "    if cube%4==0 or cube%5==0:\n",
    "        result.append(i)\n",
    "print(result)"
   ]
  },
  {
   "cell_type": "code",
   "execution_count": 20,
   "id": "76da58da-8cd5-44c5-a9a5-584764651ed7",
   "metadata": {},
   "outputs": [
    {
     "name": "stdout",
     "output_type": "stream",
     "text": [
      "[2, 4, 5, 6, 8, 10, 12, 14, 15, 16, 18, 20, 22, 24, 25, 26, 28, 30, 32, 34, 35, 36, 38, 40, 42, 44, 45, 46, 48, 50, 52, 54, 55, 56, 58, 60, 62, 64, 65, 66, 68, 70, 72, 74, 75, 76, 78, 80, 82, 84, 85, 86, 88, 90, 92, 94, 95, 96, 98, 100]\n"
     ]
    }
   ],
   "source": [
    "#Using while loop-\n",
    "numbers=list(range(1,101))\n",
    "result=[]\n",
    "i=0\n",
    "while i < len(numbers):\n",
    "    cube=numbers[i]**3\n",
    "    if cube%4==0 or cube%5==0:\n",
    "        result.append(numbers[i])\n",
    "    i+=1\n",
    "print(result)"
   ]
  },
  {
   "cell_type": "markdown",
   "id": "340f69aa-fede-4bc4-ab22-b064d234d4de",
   "metadata": {},
   "source": [
    "5. "
   ]
  },
  {
   "cell_type": "code",
   "execution_count": 25,
   "id": "1b68e705-a246-4ac0-bcf1-2523bcc42ea6",
   "metadata": {},
   "outputs": [
    {
     "name": "stdout",
     "output_type": "stream",
     "text": [
      "12\n"
     ]
    }
   ],
   "source": [
    "string = \"I want to become a data scientist\"\n",
    "count=0\n",
    "for i in string:\n",
    "    if i.lower() in ['a','e','i','o','u']:\n",
    "        count+=1\n",
    "print(count)"
   ]
  }
 ],
 "metadata": {
  "kernelspec": {
   "display_name": "Python 3 (ipykernel)",
   "language": "python",
   "name": "python3"
  },
  "language_info": {
   "codemirror_mode": {
    "name": "ipython",
    "version": 3
   },
   "file_extension": ".py",
   "mimetype": "text/x-python",
   "name": "python",
   "nbconvert_exporter": "python",
   "pygments_lexer": "ipython3",
   "version": "3.10.8"
  }
 },
 "nbformat": 4,
 "nbformat_minor": 5
}
