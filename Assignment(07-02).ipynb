{
 "cells": [
  {
   "cell_type": "markdown",
   "id": "7fff5f83-9da5-4b2e-beaf-068a5ef82bff",
   "metadata": {},
   "source": [
    "### <center> ASSIGNMENT"
   ]
  },
  {
   "cell_type": "markdown",
   "id": "551835c0-9de9-4c4a-a60b-94210dd54d10",
   "metadata": {},
   "source": [
    "1. "
   ]
  },
  {
   "cell_type": "code",
   "execution_count": 6,
   "id": "c1b7b42a-ab7f-4b47-844e-c2be82641806",
   "metadata": {},
   "outputs": [
    {
     "name": "stdin",
     "output_type": "stream",
     "text": [
      " aaAA12@#!3\n"
     ]
    },
    {
     "name": "stdout",
     "output_type": "stream",
     "text": [
      "Valid Password\n"
     ]
    }
   ],
   "source": [
    "def check(input_pass):\n",
    "    up_letter=0\n",
    "    low_letter=0\n",
    "    num=0\n",
    "    special_char=0\n",
    "    length=0\n",
    "\n",
    "    for i in input_pass:\n",
    "        if i.isupper():\n",
    "            up_letter+=1\n",
    "        elif i.islower():\n",
    "            low_letter+=1\n",
    "        elif i>='0' and i<='9':\n",
    "            num+=1\n",
    "        elif i=='!' or i=='@' or i=='#' or i=='$' or i=='_':\n",
    "            special_char+=1\n",
    "        length+=1\n",
    "        \n",
    "    if up_letter>=2 and low_letter>=2 and num>=1 and special_char>=3 and length==10:\n",
    "        return \"Valid Password\"\n",
    "    else:\n",
    "        return \"Invalid Password\"\n",
    "\n",
    "input_pass=input()\n",
    "print(check(input_pass))"
   ]
  },
  {
   "cell_type": "markdown",
   "id": "0f898807-2a03-4463-ba44-16c483599f8a",
   "metadata": {},
   "source": [
    "2. "
   ]
  },
  {
   "cell_type": "code",
   "execution_count": 7,
   "id": "83fd854d-2c30-40d0-99b2-dc173a89f62e",
   "metadata": {},
   "outputs": [
    {
     "name": "stdin",
     "output_type": "stream",
     "text": [
      " abcd\n",
      " a\n"
     ]
    },
    {
     "data": {
      "text/plain": [
       "True"
      ]
     },
     "execution_count": 7,
     "metadata": {},
     "output_type": "execute_result"
    }
   ],
   "source": [
    "#Check if the string starts with a particular letter\n",
    "string=input()\n",
    "let=input()\n",
    "res=lambda x,y:x[0]==y\n",
    "res(string,let)"
   ]
  },
  {
   "cell_type": "code",
   "execution_count": 6,
   "id": "89b9e298-653e-4984-8e6a-da90e87dc456",
   "metadata": {},
   "outputs": [
    {
     "name": "stdin",
     "output_type": "stream",
     "text": [
      " 1234\n"
     ]
    },
    {
     "name": "stdout",
     "output_type": "stream",
     "text": [
      "True\n"
     ]
    }
   ],
   "source": [
    "#Check if the string is numeric\n",
    "string=input()\n",
    "res=filter(lambda x:x>='0' and x<='9',string)\n",
    "if len(list(res))==len(string):\n",
    "    print(\"True\")\n",
    "else:\n",
    "    print(\"False\")"
   ]
  },
  {
   "cell_type": "code",
   "execution_count": 21,
   "id": "0d07020f-8375-4f8b-8b2c-9d78632d1c8c",
   "metadata": {},
   "outputs": [
    {
     "name": "stdout",
     "output_type": "stream",
     "text": [
      "[('orange', 80), ('mango', 99), ('grapes', 1000)]\n"
     ]
    }
   ],
   "source": [
    "#Sort a list of tuples having fruit names and their quantity.\n",
    "l=[(\"mango\",99),(\"orange\",80), (\"grapes\", 1000)]\n",
    "l.sort(key=lambda x:x[1])\n",
    "print(l)"
   ]
  },
  {
   "cell_type": "code",
   "execution_count": 5,
   "id": "a33d19cb-50a7-4b06-a0f4-42d48f806eda",
   "metadata": {},
   "outputs": [
    {
     "data": {
      "text/plain": [
       "[1, 4, 9, 16, 25, 36, 49, 64, 81, 100]"
      ]
     },
     "execution_count": 5,
     "metadata": {},
     "output_type": "execute_result"
    }
   ],
   "source": [
    "#Find the squares of numbers from 1 to 10\n",
    "[x**2 for x in range (1,11)]"
   ]
  },
  {
   "cell_type": "code",
   "execution_count": 6,
   "id": "9389bbbe-c4ac-4ef9-a0e7-384a4638c032",
   "metadata": {},
   "outputs": [
    {
     "data": {
      "text/plain": [
       "[0.3333333333333333,\n",
       " 0.6666666666666666,\n",
       " 1.0,\n",
       " 1.3333333333333333,\n",
       " 1.6666666666666667,\n",
       " 2.0,\n",
       " 2.3333333333333335,\n",
       " 2.6666666666666665,\n",
       " 3.0,\n",
       " 3.3333333333333335]"
      ]
     },
     "execution_count": 6,
     "metadata": {},
     "output_type": "execute_result"
    }
   ],
   "source": [
    "#Find the cube root of numbers from 1 to 10\n",
    "[x**1/3 for x in range (1,11)]"
   ]
  },
  {
   "cell_type": "code",
   "execution_count": 22,
   "id": "572365a0-2080-4a6b-8244-f4dd857514d1",
   "metadata": {},
   "outputs": [
    {
     "name": "stdin",
     "output_type": "stream",
     "text": [
      " 4\n"
     ]
    },
    {
     "name": "stdout",
     "output_type": "stream",
     "text": [
      "True\n"
     ]
    }
   ],
   "source": [
    "#Check if a given number is even\n",
    "num=int(input())\n",
    "r=lambda x:x%2==0\n",
    "print(r(num))"
   ]
  },
  {
   "cell_type": "code",
   "execution_count": 18,
   "id": "d863a631-1343-4bfb-8e6e-80fb52ab2633",
   "metadata": {},
   "outputs": [
    {
     "name": "stdout",
     "output_type": "stream",
     "text": [
      "[1, 3, 5, 7, 9]\n"
     ]
    }
   ],
   "source": [
    "#Filter odd numbers from the given list.\n",
    "l=[1,2,3,4,5,6,7,8,9,10]\n",
    "res=filter(lambda x:x%2!=0,l)\n",
    "print(list(res))"
   ]
  },
  {
   "cell_type": "code",
   "execution_count": 20,
   "id": "51ab756e-93ea-46c6-b0d7-eca070761670",
   "metadata": {},
   "outputs": [
    {
     "name": "stdout",
     "output_type": "stream",
     "text": [
      "[1, 2, 3, 4, 5, 6]\n",
      "[-1, -2, -3, -4, -5]\n"
     ]
    }
   ],
   "source": [
    "#Sort a list of integers into positive and negative integers lists.\n",
    "l=[1,2,3,4,5,6,-1,-2,-3,-4,-5,0]\n",
    "l1=[x for x in l if x>0]\n",
    "l2=[x for x in l if x<0]\n",
    "print(l1)\n",
    "print(l2)"
   ]
  }
 ],
 "metadata": {
  "kernelspec": {
   "display_name": "Python 3 (ipykernel)",
   "language": "python",
   "name": "python3"
  },
  "language_info": {
   "codemirror_mode": {
    "name": "ipython",
    "version": 3
   },
   "file_extension": ".py",
   "mimetype": "text/x-python",
   "name": "python",
   "nbconvert_exporter": "python",
   "pygments_lexer": "ipython3",
   "version": "3.10.8"
  }
 },
 "nbformat": 4,
 "nbformat_minor": 5
}
