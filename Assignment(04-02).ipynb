{
 "cells": [
  {
   "cell_type": "markdown",
   "id": "ec433b3c-8dce-45fe-9a63-c055f5e77c71",
   "metadata": {},
   "source": [
    "### <center> ASSIGNMENT"
   ]
  },
  {
   "cell_type": "markdown",
   "id": "765719cd-c3f8-49bd-9095-402134a59a06",
   "metadata": {},
   "source": [
    "1. "
   ]
  },
  {
   "cell_type": "code",
   "execution_count": 7,
   "id": "3bcedd3e-dea3-40e5-8a81-2842724a0008",
   "metadata": {},
   "outputs": [
    {
     "name": "stdout",
     "output_type": "stream",
     "text": [
      "[('Virat Kohli', 24936), ('Jack Kallis', 25534), ('Ricky Ponting', 27483), ('Sachin Tendulkar', 34357)]\n"
     ]
    }
   ],
   "source": [
    "given_list=[('Sachin Tendulkar', 34357), ('Ricky Ponting', 27483), ('Jack Kallis', 25534), ('Virat Kohli', 24936)]\n",
    "given_list.sort(key=lambda x:x[1])\n",
    "print(given_list)"
   ]
  },
  {
   "cell_type": "markdown",
   "id": "82a024ca-c645-4cf2-a996-a1ea4fc5fc88",
   "metadata": {},
   "source": [
    "2. "
   ]
  },
  {
   "cell_type": "code",
   "execution_count": 5,
   "id": "740f4362-d0e3-485d-b4fe-7395f1d23aba",
   "metadata": {},
   "outputs": [
    {
     "data": {
      "text/plain": [
       "[1, 4, 9, 16, 25, 36, 49, 64, 81, 100]"
      ]
     },
     "execution_count": 5,
     "metadata": {},
     "output_type": "execute_result"
    }
   ],
   "source": [
    "given_list=[1, 2, 3, 4, 5, 6, 7, 8, 9, 10]\n",
    "result=map(lambda x: x**2,given_list)\n",
    "list(result)"
   ]
  },
  {
   "cell_type": "markdown",
   "id": "1047d500-251d-43e2-8343-a589cf5bfe1f",
   "metadata": {},
   "source": [
    "3. "
   ]
  },
  {
   "cell_type": "code",
   "execution_count": 6,
   "id": "814df7fa-40a2-46d2-9314-3ea675f8cc98",
   "metadata": {},
   "outputs": [
    {
     "data": {
      "text/plain": [
       "('1', '2', '3', '4', '5', '6', '7', '8', '9', '10')"
      ]
     },
     "execution_count": 6,
     "metadata": {},
     "output_type": "execute_result"
    }
   ],
   "source": [
    "given_list=[1, 2, 3, 4, 5, 6, 7, 8, 9, 10]\n",
    "result=map(lambda x:str(x),given_list)\n",
    "tuple(result)"
   ]
  },
  {
   "cell_type": "markdown",
   "id": "913ef618-0fa5-40fa-9fdc-5120ecc3565d",
   "metadata": {},
   "source": [
    "4. "
   ]
  },
  {
   "cell_type": "code",
   "execution_count": 12,
   "id": "99516471-99f1-4339-89d4-59ffcdb1b210",
   "metadata": {},
   "outputs": [
    {
     "data": {
      "text/plain": [
       "15511210043330985984000000"
      ]
     },
     "execution_count": 12,
     "metadata": {},
     "output_type": "execute_result"
    }
   ],
   "source": [
    "from functools import reduce\n",
    "given_list=[i for i in range(1,26)]\n",
    "result=reduce(lambda x,y:x*y,given_list)\n",
    "result"
   ]
  },
  {
   "cell_type": "markdown",
   "id": "ff590332-9206-4edd-87fd-0e2c4fbd779b",
   "metadata": {},
   "source": [
    "5. "
   ]
  },
  {
   "cell_type": "code",
   "execution_count": 17,
   "id": "d455204c-f780-4726-a3ca-088641d24d69",
   "metadata": {},
   "outputs": [
    {
     "data": {
      "text/plain": [
       "[6, 60, 90, 120]"
      ]
     },
     "execution_count": 17,
     "metadata": {},
     "output_type": "execute_result"
    }
   ],
   "source": [
    "given_list=[2, 3, 6, 9, 27, 60, 90, 120, 55, 46]\n",
    "result=filter(lambda x:x%2==0 and x%3==0,given_list)\n",
    "list(result)"
   ]
  },
  {
   "cell_type": "markdown",
   "id": "5a7fd7aa-62eb-430d-9ec7-535dabe2d42f",
   "metadata": {},
   "source": [
    "6. "
   ]
  },
  {
   "cell_type": "code",
   "execution_count": 2,
   "id": "d5f22db3-221c-4bc9-9ef7-edc25655aa4c",
   "metadata": {},
   "outputs": [
    {
     "data": {
      "text/plain": [
       "['php', 'aba', 'radar', 'level']"
      ]
     },
     "execution_count": 2,
     "metadata": {},
     "output_type": "execute_result"
    }
   ],
   "source": [
    "given_list=['python', 'php', 'aba', 'radar', 'level']\n",
    "\n",
    "result=filter(lambda x:x==x[::-1],given_list)\n",
    "list(result)"
   ]
  }
 ],
 "metadata": {
  "kernelspec": {
   "display_name": "Python 3 (ipykernel)",
   "language": "python",
   "name": "python3"
  },
  "language_info": {
   "codemirror_mode": {
    "name": "ipython",
    "version": 3
   },
   "file_extension": ".py",
   "mimetype": "text/x-python",
   "name": "python",
   "nbconvert_exporter": "python",
   "pygments_lexer": "ipython3",
   "version": "3.10.8"
  }
 },
 "nbformat": 4,
 "nbformat_minor": 5
}
