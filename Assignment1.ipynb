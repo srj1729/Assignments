{
 "cells": [
  {
   "cell_type": "markdown",
   "id": "faa2fe7d-0465-4b5b-b96c-16955de9a4fc",
   "metadata": {},
   "source": [
    "### <center> ASSIGNMENT 1"
   ]
  },
  {
   "cell_type": "markdown",
   "id": "585045f6-1b35-45af-8209-94bef135bc69",
   "metadata": {},
   "source": [
    "1. Python was developed by a Dutch programmer Guido van Rossum."
   ]
  },
  {
   "cell_type": "markdown",
   "id": "49059415-f864-4ff5-bb57-fc19ec7e1f74",
   "metadata": {},
   "source": [
    "2. Python is an interpreted programming language, supporting object-oriented, structured, and functional programming."
   ]
  },
  {
   "cell_type": "markdown",
   "id": "311868c3-b6be-4894-8afa-62a3f0e61af5",
   "metadata": {},
   "source": [
    "3. Yes, Python is case sensitive while dealing with identifiers."
   ]
  },
  {
   "cell_type": "markdown",
   "id": "6d2cf9f1-10e6-46d3-9d6c-2c4f1f46cadc",
   "metadata": {},
   "source": [
    "4. .py is the correct extension of a python file."
   ]
  },
  {
   "cell_type": "markdown",
   "id": "6b0bcc56-1178-4800-9881-92bea71af2af",
   "metadata": {},
   "source": [
    "5. Python is an interpreted language."
   ]
  },
  {
   "cell_type": "markdown",
   "id": "03e4ada7-0815-4418-8161-93aa2149d6a3",
   "metadata": {},
   "source": [
    "6. The blocks of code used to define in Python are: Module, Function, and Class definition."
   ]
  },
  {
   "cell_type": "markdown",
   "id": "83fc9857-6bc1-40ee-9e4a-71990f86af9d",
   "metadata": {},
   "source": [
    "7. '#' is used to give single line comment in python."
   ]
  },
  {
   "cell_type": "markdown",
   "id": "9996655d-f113-4795-9e13-53f1ae1d9dbc",
   "metadata": {},
   "source": [
    "8. Functions which can help to find the version of python-  \n",
    "i. sys.version method  \n",
    "ii. python_version() function  \n",
    "iii. Python -V command  "
   ]
  },
  {
   "cell_type": "markdown",
   "id": "69aaf2c0-c914-40cd-b0a5-a5f0630ae89f",
   "metadata": {},
   "source": [
    "9. Python supports the creation of anonymous functions at runtime using a construct called 'lambda'."
   ]
  },
  {
   "cell_type": "markdown",
   "id": "b9d78307-d693-4095-9987-01622803e57b",
   "metadata": {},
   "source": [
    "10. pip stands for \"preferred installer program\"."
   ]
  },
  {
   "cell_type": "markdown",
   "id": "744b08e2-b57f-4e50-a59a-8c4f1db566fe",
   "metadata": {},
   "source": [
    "11. Few builtin functions in python are-  \n",
    "print( ) function.  \n",
    "type( ) function.  \n",
    "input( ) function.  \n",
    "len( ) function.  \n",
    "abs( ) function.  \n",
    "help( ) function.  \n",
    "max( ) function.  \n",
    "sum( ) function.  "
   ]
  },
  {
   "cell_type": "markdown",
   "id": "89b5fa7a-8981-41f5-80c7-c5e6f3148903",
   "metadata": {},
   "source": [
    "12. An identifier can have a maximum length of 79 characters in Python."
   ]
  },
  {
   "cell_type": "markdown",
   "id": "7855dcf2-0174-4d6d-9fb8-19cd1f942aed",
   "metadata": {},
   "source": [
    "13. Some of the benifits of using Python are-  \n",
    "-  Extensive support libraries.  \n",
    "-  Open source and large active community base.  \n",
    "-  Versatile, Easy to read, learn and write.  \n",
    "-  Dynamically typed language(No need to mention data type based on the value assigned).  \n",
    "-  Object Oriented and Procedural Programming language.  \n",
    "-  Can be used in variety of fields such as-  \n",
    "i. Data science.  \n",
    "ii. Scientific and mathematical computing.  \n",
    "iii. Web development.  \n",
    "iv. Computer graphics.  \n",
    "v. Basic game development.  "
   ]
  },
  {
   "cell_type": "markdown",
   "id": "6ba7dd4d-cf5d-4883-88f7-b2d24fcfc79c",
   "metadata": {},
   "source": [
    "14. Memory allocation can be defined as allocating a block of space in the computer memory to a program. In Python memory allocation and deallocation method is automatic as the Python developers created a garbage collector for Python so that the user does not have to do manual garbage collection. Garbage collection is a process in which the interpreter frees up the memory when not in use to make it available for other objects. Reference counting works by counting the number of times an object is referenced by other objects in the system. When references to an object are removed, the reference count for an object is decremented. When the reference count becomes zero, the object is deallocated."
   ]
  },
  {
   "cell_type": "markdown",
   "id": "a600d7d4-e909-4a98-b600-308b1816f483",
   "metadata": {},
   "source": [
    "15. The steps to install Python in windows is as follows-  \n",
    "First we can download python. Then, we need to locate where the python is being installed after downloading it. Copy the location path where it has been installed. Now, we have to add the above-copied path as a variable so that windows can recognize.Search for “Environmental Variables”. There will be two categories namely “User” and “System”, we have to add it in Users. Click on New button in the User section. Now, add any Variable Name and set Path as the one we copied previously and click OK."
   ]
  },
  {
   "cell_type": "markdown",
   "id": "aa036928-431a-4ad7-8764-cfa2338f6869",
   "metadata": {},
   "source": [
    "16. Yes, indentation is very important and is required in Python."
   ]
  }
 ],
 "metadata": {
  "kernelspec": {
   "display_name": "Python 3 (ipykernel)",
   "language": "python",
   "name": "python3"
  },
  "language_info": {
   "codemirror_mode": {
    "name": "ipython",
    "version": 3
   },
   "file_extension": ".py",
   "mimetype": "text/x-python",
   "name": "python",
   "nbconvert_exporter": "python",
   "pygments_lexer": "ipython3",
   "version": "3.10.8"
  }
 },
 "nbformat": 4,
 "nbformat_minor": 5
}
