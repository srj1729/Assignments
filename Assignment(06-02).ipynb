{
 "cells": [
  {
   "cell_type": "markdown",
   "id": "7b8ef0d7-d617-4b97-9fbc-4fcf00f33111",
   "metadata": {},
   "source": [
    "### <center> ASSIGNMENT"
   ]
  },
  {
   "cell_type": "markdown",
   "id": "b227efb9-9aa2-470a-bec0-ff0a7b5d3f73",
   "metadata": {},
   "source": [
    "1. "
   ]
  },
  {
   "cell_type": "code",
   "execution_count": 6,
   "id": "6478a950-4844-47f4-b8f6-f4c168b0da35",
   "metadata": {},
   "outputs": [
    {
     "name": "stdout",
     "output_type": "stream",
     "text": [
      "4134711838987085478833841242112000\n"
     ]
    }
   ],
   "source": [
    "import functools\n",
    "list1 = [1,2,3,4, [44,55,66, True], False, (34,56,78,89,34), {1,2,3,3,2,1}, {1:34, \"key2\": [55, 67, 78, 89], 4: (45,\n",
    "22, 61, 34)}, [56, 'data science'], 'Machine Learning']\n",
    "\n",
    "def find(input_list):\n",
    "    result_list=[]\n",
    "    for i in input_list:\n",
    "        if type(i) is int:\n",
    "            result_list.append(i)\n",
    "        elif (type(i) is list) or (type(i) is tuple) or (type(i) is set):\n",
    "            result_list.extend(find(i))\n",
    "        elif type(i) is dict:\n",
    "            result_list.extend(find(i.items()))\n",
    "    return result_list\n",
    "\n",
    "\n",
    "product=functools.reduce(lambda x,y:x*y,find(list1))\n",
    "print(r)"
   ]
  },
  {
   "cell_type": "markdown",
   "id": "5cf95ed5-90ff-4b8b-bc49-9cc5789cc514",
   "metadata": {},
   "source": [
    "2. "
   ]
  },
  {
   "cell_type": "code",
   "execution_count": 7,
   "id": "a3ed8e08-febc-412a-b817-0a5fbff661c1",
   "metadata": {},
   "outputs": [
    {
     "name": "stdout",
     "output_type": "stream",
     "text": [
      "i$wznt$to$yexome$z$dztz$sxientist.\n"
     ]
    }
   ],
   "source": [
    "def encrypt(input_str):\n",
    "    res_str=\"\"\n",
    "    for e in input_str:\n",
    "        if e=='a':\n",
    "            res_str+='z'\n",
    "        elif e=='b':\n",
    "            res_str+='y'\n",
    "        elif e=='c':\n",
    "            res_str+='x'\n",
    "        elif e==' ':\n",
    "            res_str+='$'\n",
    "        else:\n",
    "            res_str+=e\n",
    "            \n",
    "    return res_str\n",
    "\n",
    "input_str=\"I want to become a Data Scientist.\"\n",
    "print(encrypt(input_str.lower()))"
   ]
  }
 ],
 "metadata": {
  "kernelspec": {
   "display_name": "Python 3 (ipykernel)",
   "language": "python",
   "name": "python3"
  },
  "language_info": {
   "codemirror_mode": {
    "name": "ipython",
    "version": 3
   },
   "file_extension": ".py",
   "mimetype": "text/x-python",
   "name": "python",
   "nbconvert_exporter": "python",
   "pygments_lexer": "ipython3",
   "version": "3.10.8"
  }
 },
 "nbformat": 4,
 "nbformat_minor": 5
}
