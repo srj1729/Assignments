{
 "cells": [
  {
   "cell_type": "markdown",
   "id": "b3b49890-0aaf-4896-aee6-9c5e0d5c8974",
   "metadata": {},
   "source": [
    "### <center> ASSIGNMENT"
   ]
  },
  {
   "cell_type": "markdown",
   "id": "d1c4415a-37ff-4f38-a8b7-58a497d078b2",
   "metadata": {},
   "source": [
    "1. "
   ]
  },
  {
   "cell_type": "markdown",
   "id": "d8206128-744b-49be-b3cd-357bb24af538",
   "metadata": {},
   "source": [
    "In probability theory, a probability density function (PDF), or density of a continuous random variable, is a function whose value at any given sample (or point) in the sample space (the set of possible values taken by the random variable) can be interpreted as providing a relative likelihood that the value of the random variable would be equal to that sample."
   ]
  },
  {
   "cell_type": "markdown",
   "id": "02d4b0ef-514b-4925-a866-c76e2c64e026",
   "metadata": {},
   "source": [
    "2. "
   ]
  },
  {
   "cell_type": "markdown",
   "id": "cead2228-8fce-48fe-b159-7ece8a9f5858",
   "metadata": {},
   "source": [
    "These are the types of probability distribution-  \n",
    "i. Normal/Gaussian Distribution  \n",
    "ii. Bernoulli Distribution  \n",
    "iii. Uniform Distribution  \n",
    "iv. Poisson Distribution  \n",
    "v. Log Normal Distribution  \n",
    "vi. Binomial Distribution"
   ]
  },
  {
   "cell_type": "markdown",
   "id": "db6e4cc0-a1d8-4d29-9136-3c6415d6f43a",
   "metadata": {},
   "source": [
    "3. "
   ]
  },
  {
   "cell_type": "markdown",
   "id": "9062d804-0c3a-4ef8-9cb6-80cc47424f6b",
   "metadata": {},
   "source": [
    "Python function for claculating probability density function of a normal distribution with\n",
    "given mean and standard deviation at a given point-"
   ]
  },
  {
   "cell_type": "code",
   "execution_count": 3,
   "id": "ebf0d7e3-0125-425b-b3df-96ecfe6e60c7",
   "metadata": {},
   "outputs": [],
   "source": [
    "import math\n",
    "def pdf(val,mean,std):\n",
    "    return (math.exp(-1/2)*(((val-mean)/std)**2))/(std*math.sqrt(2*math.pi))"
   ]
  },
  {
   "cell_type": "code",
   "execution_count": 4,
   "id": "1cd0d0f9-469e-491b-877c-c1522c1d0bfb",
   "metadata": {},
   "outputs": [
    {
     "name": "stdout",
     "output_type": "stream",
     "text": [
      "0.06886607549054796\n"
     ]
    }
   ],
   "source": [
    "from scipy.stats import norm\n",
    "import numpy as np\n",
    "  \n",
    "data_start = -5\n",
    "data_end = 5\n",
    "data_points = 11\n",
    "data = np.linspace(data_start, data_end, data_points)\n",
    "  \n",
    "mean = np.mean(data)\n",
    "std = np.std(data)\n",
    "  \n",
    "probability_pdf = pdf(3, mean, std)\n",
    "print(probability_pdf)"
   ]
  },
  {
   "cell_type": "markdown",
   "id": "74e25ac4-8747-4ac9-a92d-fb1af3eeec1a",
   "metadata": {},
   "source": [
    "4. "
   ]
  },
  {
   "cell_type": "markdown",
   "id": "3e6620e4-2100-4985-ad9f-b824be4dde19",
   "metadata": {},
   "source": [
    "In statistics and probability theory, the binomial distribution is the probability distribution that is discrete and applicable to events having only two possible results in an experiment, either success or failure.  \n",
    "The properties of the binomial distribution are:  \n",
    "i. There are only two distinct possible outcomes: true/false, success/failure, yes/no.  \n",
    "ii. There is a fixed number of 'n' times repeated trials in a given experiment.  \n",
    "iii. The probability of success or failure remains constant for each attempt/trial.  \n",
    "iv. Only the successful attempts are calculated out of 'n' independent trials.  \n",
    "v. Every trial is an independent trial on its own, this means that the outcome of one trial has no effect on the outcome of another trial.  \n",
    "Ex-  \n",
    "i. To calculate probability of getting certain number of heads in given number of trials.  \n",
    "ii. The prediction of the number of spam emails received by a person."
   ]
  },
  {
   "cell_type": "markdown",
   "id": "1f79fca3-3539-4329-b8d7-87e0c1af1f49",
   "metadata": {},
   "source": [
    "5. "
   ]
  },
  {
   "cell_type": "code",
   "execution_count": 5,
   "id": "8410fd43-8cdc-4c8a-8bb4-7493ae5cdbbb",
   "metadata": {},
   "outputs": [
    {
     "data": {
      "image/png": "[encoded data removed]",
      "text/plain": [
       "<Figure size 640x480 with 1 Axes>"
      ]
     },
     "metadata": {},
     "output_type": "display_data"
    }
   ],
   "source": [
    "from scipy.stats import binom\n",
    "import matplotlib.pyplot as plt\n",
    "# setting the values\n",
    "# of n and p\n",
    "n = 1000\n",
    "p = 0.4\n",
    "# defining list of r values\n",
    "r_values = list(range(n + 1))\n",
    "# list of pmf values\n",
    "dist = [binom.pmf(r, n, p) for r in r_values ]\n",
    "# plotting the graph \n",
    "plt.bar(r_values, dist)\n",
    "plt.show()"
   ]
  },
  {
   "cell_type": "markdown",
   "id": "2e29c41a-db89-4d4f-b391-72d70c8feeb6",
   "metadata": {},
   "source": [
    "6. "
   ]
  },
  {
   "cell_type": "code",
   "execution_count": 11,
   "id": "dd668ec3-6e7f-4bbd-8dde-11d19bcf98c0",
   "metadata": {},
   "outputs": [
    {
     "name": "stdout",
     "output_type": "stream",
     "text": [
      "0.2650259152973616\n"
     ]
    }
   ],
   "source": [
    "from scipy.stats import poisson\n",
    "\n",
    "#Function to calculate cdf\n",
    "def poisson_cdf(point,mu):\n",
    "    cdf = poisson.cdf(point,mu)\n",
    "    return cdf\n",
    "\n",
    "result=poisson_cdf(3,5)\n",
    "print(result)"
   ]
  },
  {
   "cell_type": "markdown",
   "id": "86e90d79-81d0-47a8-8702-ac6591013ba1",
   "metadata": {},
   "source": [
    "7. "
   ]
  },
  {
   "cell_type": "markdown",
   "id": "a608b59b-1bc6-4fcb-b660-ce079f49e1af",
   "metadata": {},
   "source": [
    "Differences between binomial and poisson distribution are-  \n",
    "\n",
    "| Binomial     | Poisson |\n",
    "| ----------- | ----------- |\n",
    "| Binomial distribution is one in which the probability of repeated number of trials are studied.     | Poisson Distribution gives the count of independent events occur randomly with a given period of time.    |\n",
    "| \tFixed number of trials   | \t\tInfinite number of trials       |\n",
    "| \tOnly two possible outcomes, i.e. success or failure.   | \t\tUnlimited number of possible outcomes.      |\n",
    "| \tConstant probability   | \t\tInfinitesimal chance of success      |\n",
    "| \tMean > Variance   | \t\t\tMean = Variance      |"
   ]
  },
  {
   "cell_type": "markdown",
   "id": "b1e01bda-3137-4d38-9167-45d76eaa3552",
   "metadata": {},
   "source": [
    "8. "
   ]
  },
  {
   "cell_type": "code",
   "execution_count": 14,
   "id": "c0cfaecb-1c35-4727-9341-2588ef5e8b42",
   "metadata": {},
   "outputs": [
    {
     "name": "stdout",
     "output_type": "stream",
     "text": [
      "5.018\n",
      "4.779676\n"
     ]
    }
   ],
   "source": [
    "lst=poisson.rvs(mu=5, size=1000)\n",
    "print(np.mean(lst))\n",
    "print(np.var(lst))"
   ]
  },
  {
   "cell_type": "markdown",
   "id": "8eaa289d-b887-49ff-babb-7eb46f3394f3",
   "metadata": {},
   "source": [
    "9. "
   ]
  },
  {
   "cell_type": "markdown",
   "id": "92a16b1e-7562-4d17-b04b-d37883c35420",
   "metadata": {},
   "source": [
    "The mean of the binomial distribution is np, and the variance of the binomial distribution is np (1 − p) where,    \n",
    "n is the number of trials (occurrences),  \n",
    "p is probability of success in a single trial.  \n",
    "\n",
    "The mean and the variance of the Poisson distribution are the same, which is equal to the average number of successes that occur in the given interval of time."
   ]
  },
  {
   "cell_type": "markdown",
   "id": "cdd9a352-d32a-4334-ad33-e85884601258",
   "metadata": {},
   "source": [
    "10. "
   ]
  },
  {
   "cell_type": "markdown",
   "id": "1b95a4ff-1e3a-4f32-8df8-e948c6a94f5f",
   "metadata": {},
   "source": [
    "The leftmost and rightmost data points from the mean are the data with least frequencies."
   ]
  },
  {
   "cell_type": "code",
   "execution_count": null,
   "id": "df9f1e2b-d889-4da9-8b2a-5a1cf40c7cfb",
   "metadata": {},
   "outputs": [],
   "source": []
  }
 ],
 "metadata": {
  "kernelspec": {
   "display_name": "Python 3 (ipykernel)",
   "language": "python",
   "name": "python3"
  },
  "language_info": {
   "codemirror_mode": {
    "name": "ipython",
    "version": 3
   },
   "file_extension": ".py",
   "mimetype": "text/x-python",
   "name": "python",
   "nbconvert_exporter": "python",
   "pygments_lexer": "ipython3",
   "version": "3.10.8"
  }
 },
 "nbformat": 4,
 "nbformat_minor": 5
}
