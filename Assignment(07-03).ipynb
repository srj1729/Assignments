{
 "cells": [
  {
   "cell_type": "markdown",
   "id": "ca582893-94ca-488f-a67a-7b6ad02ff8b8",
   "metadata": {},
   "source": [
    "### <center> ASSIGNMENT"
   ]
  },
  {
   "cell_type": "markdown",
   "id": "704d1e69-a02b-437d-8e8a-da8f5f3bfd9a",
   "metadata": {},
   "source": [
    "1. "
   ]
  },
  {
   "cell_type": "markdown",
   "id": "608db44a-7658-4692-b598-96eae5c343c0",
   "metadata": {},
   "source": [
    "There are three measures of central tendancy-  \n",
    "Mean, Median, Mode"
   ]
  },
  {
   "cell_type": "markdown",
   "id": "9cdd4e87-ce63-4d2a-a08b-b1e746ca5f39",
   "metadata": {},
   "source": [
    "2. "
   ]
  },
  {
   "cell_type": "markdown",
   "id": "f0efa0fc-48b4-4e19-9560-e8feb1dc8562",
   "metadata": {},
   "source": [
    "Mean-  \n",
    "The mean is the arithmetic average, and it is probably the measure of central tendency that you are most familiar. Calculating the mean is very simple. You just add up all of the values and divide by the number of observations in your dataset.  \n",
    "Median-  \n",
    "The median is the middle value. It is the value that splits the dataset in half, making it a natural measure of central tendency.  \n",
    "Mode-  \n",
    "The mode is the value that occurs the most frequently in your data set, making it a different type of measure of central tendency than the mean or median.  "
   ]
  },
  {
   "cell_type": "markdown",
   "id": "a2cb7572-71ef-4f5a-9273-b4c71a0591c9",
   "metadata": {},
   "source": [
    "3. "
   ]
  },
  {
   "cell_type": "code",
   "execution_count": 2,
   "id": "64bb17a4-45d5-411e-aeea-5e34b76ad289",
   "metadata": {},
   "outputs": [
    {
     "name": "stdout",
     "output_type": "stream",
     "text": [
      "177.01875\n",
      "177.0\n",
      "178\n"
     ]
    }
   ],
   "source": [
    "import numpy as np\n",
    "from statistics import mode\n",
    "lst=[178,177,176,177,178.2,178,175,179,180,175,178.9,176.2,177,172.5,178,176.5]\n",
    "print(np.mean(lst))\n",
    "print(np.median(lst))\n",
    "print(mode(lst))"
   ]
  },
  {
   "cell_type": "markdown",
   "id": "958c2798-a84e-426b-9005-86e05d84498a",
   "metadata": {},
   "source": [
    "4. "
   ]
  },
  {
   "cell_type": "code",
   "execution_count": 5,
   "id": "2d15e982-26bf-4936-9371-7a5b5d3c099f",
   "metadata": {},
   "outputs": [
    {
     "data": {
      "text/plain": [
       "1.7885814036548633"
      ]
     },
     "execution_count": 5,
     "metadata": {},
     "output_type": "execute_result"
    }
   ],
   "source": [
    "lst=[178,177,176,177,178.2,178,175,179,180,175,178.9,176.2,177,172.5,178,176.5]\n",
    "np.std(lst)"
   ]
  },
  {
   "cell_type": "markdown",
   "id": "86ad8b37-d25c-491d-91f2-74f386b2791e",
   "metadata": {},
   "source": [
    "5. "
   ]
  },
  {
   "cell_type": "markdown",
   "id": "2c82a40d-b1ff-4d7a-aa13-c413276bc02d",
   "metadata": {},
   "source": [
    "Range- \n",
    "The range can measure by subtracting the lowest value from the massive Number. The wide range indicates high variability, and the small range specifies low variability in the distribution.  \n",
    "Variance-  \n",
    "Variance is a simple measure of dispersion. Variance measures how far each number in the dataset from the mean. It is calculated by dividing the summation of the squared difference of the elements from mean by the number of elements.  \n",
    "Standard Deviation-  \n",
    "Standard deviation is the squared root of the variance. Low standard deviation indicates data points close to mean.  \n",
    "Ex-  "
   ]
  },
  {
   "cell_type": "code",
   "execution_count": 7,
   "id": "5ca8aaa8-c2a4-40e7-8556-53880f2fb06a",
   "metadata": {},
   "outputs": [
    {
     "name": "stdout",
     "output_type": "stream",
     "text": [
      "Range: 31\n",
      "Variance: 76.4\n",
      "Standard Deviation: 8.740709353364863\n"
     ]
    }
   ],
   "source": [
    "marks=[78,65,76,73,68,67,72,79,66,96]\n",
    "print(\"Range:\",max(marks)-min(marks))\n",
    "print(\"Variance:\",np.var(marks))\n",
    "print(\"Standard Deviation:\",np.std(marks))"
   ]
  },
  {
   "cell_type": "markdown",
   "id": "dda6d165-385f-4a71-9c17-5573081fc754",
   "metadata": {},
   "source": [
    "6. "
   ]
  },
  {
   "cell_type": "markdown",
   "id": "33930765-32cd-457e-9d57-2454b8dd1c31",
   "metadata": {},
   "source": [
    "A Venn diagram is an illustration that uses circles to show the relationships among things or finite groups of things. Circles that overlap have a commonality while circles that do not overlap do not share those traits."
   ]
  },
  {
   "cell_type": "markdown",
   "id": "1bf16db1-2e2c-48e7-a1ce-797075409bfa",
   "metadata": {},
   "source": [
    "7. "
   ]
  },
  {
   "cell_type": "code",
   "execution_count": 9,
   "id": "7d8f387c-3bb1-4e92-b3b8-beb3242a8983",
   "metadata": {},
   "outputs": [
    {
     "name": "stdout",
     "output_type": "stream",
     "text": [
      "{0, 2, 3, 4, 5, 6, 7, 8, 10}\n",
      "{2, 6}\n"
     ]
    }
   ],
   "source": [
    "A = {2,3,4,5,6,7}\n",
    "B = {0,2,6,8,10}\n",
    "print(A|B)\n",
    "print(A&B)"
   ]
  },
  {
   "cell_type": "markdown",
   "id": "ace2fbce-02a2-4a90-b55f-8f3ed8db4b20",
   "metadata": {},
   "source": [
    "8. "
   ]
  },
  {
   "cell_type": "markdown",
   "id": "3bf15dc8-95e1-4690-8b16-3c82503e0c07",
   "metadata": {},
   "source": [
    "Skewness is a measurement of the distortion of symmetrical distribution or asymmetry in a data set. Skewness is demonstrated on a bell curve when data points are not distributed symmetrically to the left and right sides of the median on a bell curve.  \n",
    "In case of right(positive) skewed, Mean>=Median>=Mode   \n",
    "In case of left(negative) skewed, Mean<=Median<=Mode"
   ]
  },
  {
   "cell_type": "markdown",
   "id": "e9039572-8172-413f-9289-56c3992c1e37",
   "metadata": {},
   "source": [
    "9. "
   ]
  },
  {
   "cell_type": "markdown",
   "id": "5af3cfb5-4629-4467-808f-f7a4c0a4d32f",
   "metadata": {},
   "source": [
    "If a data is right skewed then, Median<=Mean."
   ]
  },
  {
   "cell_type": "markdown",
   "id": "874f4d89-d91e-40ae-b9e4-e66ebda80e09",
   "metadata": {},
   "source": [
    "10. "
   ]
  },
  {
   "cell_type": "markdown",
   "id": "a516845d-914d-45dc-8bea-a94e84062deb",
   "metadata": {},
   "source": [
    "Covariance is a statistical term that refers to a systematic relationship between two random variables in which a change in the other reflects a change in one variable. The covariance value can range from -∞ to +∞, with a negative value indicating a negative relationship and a positive value indicating a positive relationship.  \n",
    "In statistics, correlation is a measure that determines the degree to which two or more random variables move in sequence. When an equivalent movement of another variable reciprocates the movement of one variable in some way or another during the study of two variables, the variables are said to be correlated."
   ]
  },
  {
   "cell_type": "markdown",
   "id": "6f8c1b88-1601-43cb-9406-de369f10a539",
   "metadata": {},
   "source": [
    "11. "
   ]
  },
  {
   "cell_type": "markdown",
   "id": "b534a8a7-537c-4f62-b41f-b8d5619d4e87",
   "metadata": {},
   "source": [
    "Sample mean=(Sum of all elements in the sample)/(No. of elements)  \n",
    "Ex-"
   ]
  },
  {
   "cell_type": "code",
   "execution_count": 3,
   "id": "c6cd7b6d-da7e-4e57-915f-1bb605baf0f4",
   "metadata": {},
   "outputs": [
    {
     "data": {
      "text/plain": [
       "80.6"
      ]
     },
     "execution_count": 3,
     "metadata": {},
     "output_type": "execute_result"
    }
   ],
   "source": [
    "lst=[32,52,46,205,78,96,98,54,87,58]\n",
    "np.mean(lst)"
   ]
  },
  {
   "cell_type": "markdown",
   "id": "87a05285-84e0-42ab-ba7c-ba8300e1a8b3",
   "metadata": {},
   "source": [
    "12. "
   ]
  },
  {
   "cell_type": "markdown",
   "id": "0cb33e3a-6754-4e64-be1d-aa3603a5b674",
   "metadata": {},
   "source": [
    "For a normal distribution data, Mean=Median=Mode(approx)."
   ]
  },
  {
   "cell_type": "markdown",
   "id": "dcbcbaf7-64d1-4c01-bcde-338e30014d3f",
   "metadata": {},
   "source": [
    "13. "
   ]
  },
  {
   "cell_type": "markdown",
   "id": "30fd6c65-3ab8-406d-8cec-7ae097f093bd",
   "metadata": {},
   "source": [
    "Covariance is a statistical term that refers to a systematic relationship between two random variables in which a change in the other reflects a change in one variable. The covariance value can range from -∞ to +∞, with a negative value indicating a negative relationship and a positive value indicating a positive relationship.  \n",
    "In statistics, correlation is a measure that determines the degree to which two or more random variables move in sequence. When an equivalent movement of another variable reciprocates the movement of one variable in some way or another during the study of two variables, the variables are said to be correlated."
   ]
  },
  {
   "cell_type": "markdown",
   "id": "86f94a6a-ed9c-4bf1-a66d-61f268392ebe",
   "metadata": {},
   "source": [
    "14. "
   ]
  },
  {
   "cell_type": "markdown",
   "id": "a116fe91-cf41-490c-bb9f-b3bdcb13bb36",
   "metadata": {},
   "source": [
    "When a outlier is present it can effect the shape of the graph, if we have outliers to the right of the graph. These outliers are causing the mean to increase, but if we have outliers to the left of the graph these outliers are dragging down the mean. This causes a conflict because the mean no longer provides a good representation of the data, alternatively we would much rather use the median. The median on the other hand is less likely to be affect by outliers.\n",
    "\n",
    "In case of dispersion, Range is very much affected by outliers and since Mean is affected by outliers, Variance and Standard Deviation are also affected."
   ]
  }
 ],
 "metadata": {
  "kernelspec": {
   "display_name": "Python 3 (ipykernel)",
   "language": "python",
   "name": "python3"
  },
  "language_info": {
   "codemirror_mode": {
    "name": "ipython",
    "version": 3
   },
   "file_extension": ".py",
   "mimetype": "text/x-python",
   "name": "python",
   "nbconvert_exporter": "python",
   "pygments_lexer": "ipython3",
   "version": "3.10.8"
  }
 },
 "nbformat": 4,
 "nbformat_minor": 5
}
