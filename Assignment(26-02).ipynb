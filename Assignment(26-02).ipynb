{
 "cells": [
  {
   "cell_type": "markdown",
   "id": "e7a5134b-5cb4-4710-ab09-a2d4f5234a2b",
   "metadata": {},
   "source": [
    "### <center> ASSIGNMENT"
   ]
  },
  {
   "cell_type": "markdown",
   "id": "9d117946-d80b-4fe7-8dab-3133b65ba461",
   "metadata": {},
   "source": [
    "1. "
   ]
  },
  {
   "cell_type": "code",
   "execution_count": 2,
   "id": "4d95f861-5206-4499-812d-794d06ecb96a",
   "metadata": {},
   "outputs": [],
   "source": [
    "import numpy as np\n",
    "list_ = [ '1' , '2' , '3' , '4' , '5' ]\n",
    "array_list = np.array(object = list_)"
   ]
  },
  {
   "cell_type": "code",
   "execution_count": 3,
   "id": "91285a54-dc78-4eaa-9483-b9af2109b572",
   "metadata": {},
   "outputs": [
    {
     "data": {
      "text/plain": [
       "list"
      ]
     },
     "execution_count": 3,
     "metadata": {},
     "output_type": "execute_result"
    }
   ],
   "source": [
    "type(list_)"
   ]
  },
  {
   "cell_type": "code",
   "execution_count": 4,
   "id": "925d5bd6-9728-45be-abc1-5dbae7098df0",
   "metadata": {},
   "outputs": [
    {
     "data": {
      "text/plain": [
       "numpy.ndarray"
      ]
     },
     "execution_count": 4,
     "metadata": {},
     "output_type": "execute_result"
    }
   ],
   "source": [
    "type(array_list)"
   ]
  },
  {
   "cell_type": "markdown",
   "id": "99c5140c-9dfc-44fe-aa2e-b89c99ba0ab4",
   "metadata": {},
   "source": [
    "Yes, there is a difference between the two. list_ is of list data type whereas array_list is of numpy array data type. The differences between numpy array and list are as follows-   \n",
    "\n",
    "i. Numpy array consumes less memory.  \n",
    "ii. Numpy arrays are fast as compared to the Python Lists.  \n",
    "iii. Numpy arrays are convenient to use.  "
   ]
  },
  {
   "cell_type": "markdown",
   "id": "3b3b1920-2bb0-45b7-ac1e-dbc9c1d36a2a",
   "metadata": {},
   "source": [
    "2. "
   ]
  },
  {
   "cell_type": "code",
   "execution_count": 9,
   "id": "6328c416-ac8a-484e-b326-68ae6ac16ead",
   "metadata": {},
   "outputs": [
    {
     "name": "stdout",
     "output_type": "stream",
     "text": [
      "<class 'str'>\n",
      "<class 'str'>\n",
      "<class 'str'>\n",
      "<class 'str'>\n",
      "<class 'str'>\n"
     ]
    }
   ],
   "source": [
    "for x in list_:\n",
    "    print(type(x))"
   ]
  },
  {
   "cell_type": "code",
   "execution_count": 10,
   "id": "838b76d0-f7ce-43c9-86e8-9a5f2e279996",
   "metadata": {},
   "outputs": [
    {
     "name": "stdout",
     "output_type": "stream",
     "text": [
      "<class 'numpy.str_'>\n",
      "<class 'numpy.str_'>\n",
      "<class 'numpy.str_'>\n",
      "<class 'numpy.str_'>\n",
      "<class 'numpy.str_'>\n"
     ]
    }
   ],
   "source": [
    "for x in array_list:\n",
    "    print(type(x))"
   ]
  },
  {
   "cell_type": "code",
   "execution_count": 11,
   "id": "8a0cef3c-d954-4838-944a-cd750d840209",
   "metadata": {},
   "outputs": [
    {
     "data": {
      "text/plain": [
       "dtype('<U1')"
      ]
     },
     "execution_count": 11,
     "metadata": {},
     "output_type": "execute_result"
    }
   ],
   "source": [
    "array_list.dtype"
   ]
  },
  {
   "cell_type": "markdown",
   "id": "25def076-454b-4c59-ac04-74674417c51a",
   "metadata": {},
   "source": [
    "3. "
   ]
  },
  {
   "cell_type": "code",
   "execution_count": 13,
   "id": "25fccab6-144f-46dc-9fc9-0dad950bbc4a",
   "metadata": {},
   "outputs": [
    {
     "data": {
      "text/plain": [
       "array([1, 2, 3, 4, 5])"
      ]
     },
     "execution_count": 13,
     "metadata": {},
     "output_type": "execute_result"
    }
   ],
   "source": [
    "array_list = np.array(object = list_, dtype = int)\n",
    "array_list"
   ]
  },
  {
   "cell_type": "code",
   "execution_count": 14,
   "id": "b143a126-948d-444d-942b-2b583838f34b",
   "metadata": {},
   "outputs": [
    {
     "name": "stdout",
     "output_type": "stream",
     "text": [
      "<class 'str'>\n",
      "<class 'str'>\n",
      "<class 'str'>\n",
      "<class 'str'>\n",
      "<class 'str'>\n"
     ]
    }
   ],
   "source": [
    "for x in list_:\n",
    "    print(type(x))"
   ]
  },
  {
   "cell_type": "code",
   "execution_count": 15,
   "id": "262f3ed7-7725-4949-9f73-adfa76afa0da",
   "metadata": {},
   "outputs": [
    {
     "name": "stdout",
     "output_type": "stream",
     "text": [
      "<class 'numpy.int64'>\n",
      "<class 'numpy.int64'>\n",
      "<class 'numpy.int64'>\n",
      "<class 'numpy.int64'>\n",
      "<class 'numpy.int64'>\n"
     ]
    }
   ],
   "source": [
    "for x in array_list:\n",
    "    print(type(x))"
   ]
  },
  {
   "cell_type": "code",
   "execution_count": 16,
   "id": "f106da0d-ab7c-4ec4-94b9-0e6969997836",
   "metadata": {},
   "outputs": [
    {
     "data": {
      "text/plain": [
       "dtype('int64')"
      ]
     },
     "execution_count": 16,
     "metadata": {},
     "output_type": "execute_result"
    }
   ],
   "source": [
    "array_list.dtype"
   ]
  },
  {
   "cell_type": "markdown",
   "id": "65a458b8-43e6-404d-9b19-e93a266c0bcb",
   "metadata": {},
   "source": [
    "The data type of the elements of the numpy array have changed to integer(numpy.int64) from string(numpy.str_)."
   ]
  },
  {
   "cell_type": "markdown",
   "id": "678d63e1-4818-42c6-a8e2-0298f749157e",
   "metadata": {},
   "source": [
    "4. "
   ]
  },
  {
   "cell_type": "code",
   "execution_count": 17,
   "id": "26260121-465a-4c16-9780-3f435b3cd49f",
   "metadata": {},
   "outputs": [],
   "source": [
    "import numpy as np\n",
    "num_list = [ [ 1 , 2 , 3 ] , [ 4 , 5 , 6 ] ]\n",
    "num_array = np.array(object = num_list)"
   ]
  },
  {
   "cell_type": "code",
   "execution_count": 18,
   "id": "051c9055-dceb-441e-9184-13b34952a3c3",
   "metadata": {},
   "outputs": [
    {
     "data": {
      "text/plain": [
       "array([[1, 2, 3],\n",
       "       [4, 5, 6]])"
      ]
     },
     "execution_count": 18,
     "metadata": {},
     "output_type": "execute_result"
    }
   ],
   "source": [
    "num_array"
   ]
  },
  {
   "cell_type": "code",
   "execution_count": 19,
   "id": "34eb32ed-3678-4877-bea2-20f60e935476",
   "metadata": {},
   "outputs": [
    {
     "data": {
      "text/plain": [
       "(2, 3)"
      ]
     },
     "execution_count": 19,
     "metadata": {},
     "output_type": "execute_result"
    }
   ],
   "source": [
    "num_array.shape"
   ]
  },
  {
   "cell_type": "code",
   "execution_count": 21,
   "id": "eec6617e-ba7d-4d3a-80af-3c93ad6b9076",
   "metadata": {},
   "outputs": [
    {
     "data": {
      "text/plain": [
       "6"
      ]
     },
     "execution_count": 21,
     "metadata": {},
     "output_type": "execute_result"
    }
   ],
   "source": [
    "num_array.size"
   ]
  },
  {
   "cell_type": "markdown",
   "id": "7f61fc1d-8253-474c-975a-56612462a9ac",
   "metadata": {},
   "source": [
    "5. "
   ]
  },
  {
   "cell_type": "code",
   "execution_count": 26,
   "id": "cdf1925a-386f-403d-ac99-784588cd6a90",
   "metadata": {},
   "outputs": [
    {
     "data": {
      "text/plain": [
       "array([[0., 0., 0.],\n",
       "       [0., 0., 0.],\n",
       "       [0., 0., 0.]])"
      ]
     },
     "execution_count": 26,
     "metadata": {},
     "output_type": "execute_result"
    }
   ],
   "source": [
    "zero_array=np.zeros((3,3))\n",
    "zero_array"
   ]
  },
  {
   "cell_type": "code",
   "execution_count": 27,
   "id": "19f99f96-fdf7-4cb9-83e2-60e65653840d",
   "metadata": {},
   "outputs": [
    {
     "data": {
      "text/plain": [
       "(3, 3)"
      ]
     },
     "execution_count": 27,
     "metadata": {},
     "output_type": "execute_result"
    }
   ],
   "source": [
    "zero_array.shape"
   ]
  },
  {
   "cell_type": "code",
   "execution_count": 28,
   "id": "d3e0c091-26a6-43d3-a25a-696b38e9acd8",
   "metadata": {},
   "outputs": [
    {
     "data": {
      "text/plain": [
       "9"
      ]
     },
     "execution_count": 28,
     "metadata": {},
     "output_type": "execute_result"
    }
   ],
   "source": [
    "zero_array.size"
   ]
  },
  {
   "cell_type": "markdown",
   "id": "f8d4ede4-fe49-49ed-a9d3-aff20e5d1812",
   "metadata": {},
   "source": [
    "6. "
   ]
  },
  {
   "cell_type": "code",
   "execution_count": 29,
   "id": "509c603c-d457-4b8b-90c8-f08ce969d081",
   "metadata": {},
   "outputs": [
    {
     "data": {
      "text/plain": [
       "array([[1., 0., 0., 0., 0.],\n",
       "       [0., 1., 0., 0., 0.],\n",
       "       [0., 0., 1., 0., 0.],\n",
       "       [0., 0., 0., 1., 0.],\n",
       "       [0., 0., 0., 0., 1.]])"
      ]
     },
     "execution_count": 29,
     "metadata": {},
     "output_type": "execute_result"
    }
   ],
   "source": [
    "ones_array=np.eye(5)\n",
    "ones_array"
   ]
  },
  {
   "cell_type": "code",
   "execution_count": 30,
   "id": "0e06f6ca-93e4-4244-b74c-e9d28f445ee5",
   "metadata": {},
   "outputs": [
    {
     "data": {
      "text/plain": [
       "(5, 5)"
      ]
     },
     "execution_count": 30,
     "metadata": {},
     "output_type": "execute_result"
    }
   ],
   "source": [
    "ones_array.shape"
   ]
  },
  {
   "cell_type": "code",
   "execution_count": 31,
   "id": "72a51775-1934-4ed4-9ca6-cf9636e019c3",
   "metadata": {},
   "outputs": [
    {
     "data": {
      "text/plain": [
       "25"
      ]
     },
     "execution_count": 31,
     "metadata": {},
     "output_type": "execute_result"
    }
   ],
   "source": [
    "ones_array.size"
   ]
  }
 ],
 "metadata": {
  "kernelspec": {
   "display_name": "Python 3 (ipykernel)",
   "language": "python",
   "name": "python3"
  },
  "language_info": {
   "codemirror_mode": {
    "name": "ipython",
    "version": 3
   },
   "file_extension": ".py",
   "mimetype": "text/x-python",
   "name": "python",
   "nbconvert_exporter": "python",
   "pygments_lexer": "ipython3",
   "version": "3.10.8"
  }
 },
 "nbformat": 4,
 "nbformat_minor": 5
}
