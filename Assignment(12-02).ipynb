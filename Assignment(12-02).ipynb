{
 "cells": [
  {
   "cell_type": "markdown",
   "id": "e0659f03-23ba-4141-928b-9f07ecd97869",
   "metadata": {},
   "source": [
    "### <center> ASSIGNMENT"
   ]
  },
  {
   "cell_type": "markdown",
   "id": "53a09761-e44a-4fe0-a224-3b2f1bc4703a",
   "metadata": {},
   "source": [
    "1. Syntax errors  \n",
    "When the proper syntax of the language is not followed then a syntax error is thrown.  \n",
    "Ex-"
   ]
  },
  {
   "cell_type": "code",
   "execution_count": 1,
   "id": "9524d807-9796-492a-bc9f-01078a22fe34",
   "metadata": {},
   "outputs": [
    {
     "ename": "SyntaxError",
     "evalue": "invalid syntax (1733576886.py, line 2)",
     "output_type": "error",
     "traceback": [
      "\u001b[0;36m  Cell \u001b[0;32mIn[1], line 2\u001b[0;36m\u001b[0m\n\u001b[0;31m    if(num<5:\u001b[0m\n\u001b[0m            ^\u001b[0m\n\u001b[0;31mSyntaxError\u001b[0m\u001b[0;31m:\u001b[0m invalid syntax\n"
     ]
    }
   ],
   "source": [
    "num=10\n",
    "if(num<5:\n",
    "   print(\"Less than 5\")"
   ]
  },
  {
   "cell_type": "markdown",
   "id": "dcead732-7751-4043-bcb1-f0ab2364694e",
   "metadata": {},
   "source": [
    "It returns a syntax error message because after the if statement a bracket is missing. We can fix this by writing the correct syntax."
   ]
  },
  {
   "cell_type": "markdown",
   "id": "c8b1eecc-d8e7-485c-a02c-efaf91e67915",
   "metadata": {},
   "source": [
    "Exceptions  \n",
    "When in the runtime an error that occurs after passing the syntax test is called exception or logical type. For example, when we divide any number by zero then the ZeroDivisionError exception is raised, or when we import a module that does not exist then ImportError is raised."
   ]
  },
  {
   "cell_type": "code",
   "execution_count": 2,
   "id": "73d23435-b658-4bd2-ae76-64b632a3573d",
   "metadata": {},
   "outputs": [
    {
     "ename": "ZeroDivisionError",
     "evalue": "division by zero",
     "output_type": "error",
     "traceback": [
      "\u001b[0;31m---------------------------------------------------------------------------\u001b[0m",
      "\u001b[0;31mZeroDivisionError\u001b[0m                         Traceback (most recent call last)",
      "Cell \u001b[0;32mIn[2], line 2\u001b[0m\n\u001b[1;32m      1\u001b[0m a\u001b[38;5;241m=\u001b[39m\u001b[38;5;241m10\u001b[39m\n\u001b[0;32m----> 2\u001b[0m b\u001b[38;5;241m=\u001b[39m\u001b[38;5;241;43m10\u001b[39;49m\u001b[38;5;241;43m/\u001b[39;49m\u001b[38;5;241;43m0\u001b[39;49m\n",
      "\u001b[0;31mZeroDivisionError\u001b[0m: division by zero"
     ]
    }
   ],
   "source": [
    "a=10\n",
    "b=10/0"
   ]
  },
  {
   "cell_type": "markdown",
   "id": "4a6eeb11-2fc9-4de8-843c-278bfc7f4256",
   "metadata": {},
   "source": [
    "In the above example the ZeroDivisionError exception occurs as we are trying to divide a number by 0."
   ]
  },
  {
   "cell_type": "markdown",
   "id": "bcb548af-ed3e-4672-9762-818b3b72eed9",
   "metadata": {},
   "source": [
    "2. When an exception is not handled, the code stops running and gives an error with the name of exception which caused the error.  \n",
    "Ex-"
   ]
  },
  {
   "cell_type": "code",
   "execution_count": 3,
   "id": "6da95b6a-274a-47f4-b797-1ad187aeba41",
   "metadata": {},
   "outputs": [
    {
     "ename": "FileNotFoundError",
     "evalue": "[Errno 2] No such file or directory: 'notthere file.txt'",
     "output_type": "error",
     "traceback": [
      "\u001b[0;31m---------------------------------------------------------------------------\u001b[0m",
      "\u001b[0;31mFileNotFoundError\u001b[0m                         Traceback (most recent call last)",
      "Cell \u001b[0;32mIn[3], line 1\u001b[0m\n\u001b[0;32m----> 1\u001b[0m file\u001b[38;5;241m=\u001b[39m\u001b[38;5;28;43mopen\u001b[39;49m\u001b[43m(\u001b[49m\u001b[38;5;124;43m\"\u001b[39;49m\u001b[38;5;124;43mnotthere file.txt\u001b[39;49m\u001b[38;5;124;43m\"\u001b[39;49m\u001b[43m,\u001b[49m\u001b[38;5;124;43m\"\u001b[39;49m\u001b[38;5;124;43mr\u001b[39;49m\u001b[38;5;124;43m\"\u001b[39;49m\u001b[43m)\u001b[49m\n\u001b[1;32m      2\u001b[0m file\u001b[38;5;241m.\u001b[39mread()\n",
      "File \u001b[0;32m/opt/conda/lib/python3.10/site-packages/IPython/core/interactiveshell.py:282\u001b[0m, in \u001b[0;36m_modified_open\u001b[0;34m(file, *args, **kwargs)\u001b[0m\n\u001b[1;32m    275\u001b[0m \u001b[38;5;28;01mif\u001b[39;00m file \u001b[38;5;129;01min\u001b[39;00m {\u001b[38;5;241m0\u001b[39m, \u001b[38;5;241m1\u001b[39m, \u001b[38;5;241m2\u001b[39m}:\n\u001b[1;32m    276\u001b[0m     \u001b[38;5;28;01mraise\u001b[39;00m \u001b[38;5;167;01mValueError\u001b[39;00m(\n\u001b[1;32m    277\u001b[0m         \u001b[38;5;124mf\u001b[39m\u001b[38;5;124m\"\u001b[39m\u001b[38;5;124mIPython won\u001b[39m\u001b[38;5;124m'\u001b[39m\u001b[38;5;124mt let you open fd=\u001b[39m\u001b[38;5;132;01m{\u001b[39;00mfile\u001b[38;5;132;01m}\u001b[39;00m\u001b[38;5;124m by default \u001b[39m\u001b[38;5;124m\"\u001b[39m\n\u001b[1;32m    278\u001b[0m         \u001b[38;5;124m\"\u001b[39m\u001b[38;5;124mas it is likely to crash IPython. If you know what you are doing, \u001b[39m\u001b[38;5;124m\"\u001b[39m\n\u001b[1;32m    279\u001b[0m         \u001b[38;5;124m\"\u001b[39m\u001b[38;5;124myou can use builtins\u001b[39m\u001b[38;5;124m'\u001b[39m\u001b[38;5;124m open.\u001b[39m\u001b[38;5;124m\"\u001b[39m\n\u001b[1;32m    280\u001b[0m     )\n\u001b[0;32m--> 282\u001b[0m \u001b[38;5;28;01mreturn\u001b[39;00m \u001b[43mio_open\u001b[49m\u001b[43m(\u001b[49m\u001b[43mfile\u001b[49m\u001b[43m,\u001b[49m\u001b[43m \u001b[49m\u001b[38;5;241;43m*\u001b[39;49m\u001b[43margs\u001b[49m\u001b[43m,\u001b[49m\u001b[43m \u001b[49m\u001b[38;5;241;43m*\u001b[39;49m\u001b[38;5;241;43m*\u001b[39;49m\u001b[43mkwargs\u001b[49m\u001b[43m)\u001b[49m\n",
      "\u001b[0;31mFileNotFoundError\u001b[0m: [Errno 2] No such file or directory: 'notthere file.txt'"
     ]
    }
   ],
   "source": [
    "file=open(\"notthere file.txt\",\"r\")\n",
    "file.read()"
   ]
  },
  {
   "cell_type": "markdown",
   "id": "1d927448-269b-4d5b-a468-03b0878b001c",
   "metadata": {},
   "source": [
    "In the above example the FileNotFoundError exception occurs as we are trying to access a file which is not present."
   ]
  },
  {
   "cell_type": "markdown",
   "id": "e4afaed5-1552-4cb1-b66e-ec16b20cb55a",
   "metadata": {},
   "source": [
    "3. "
   ]
  },
  {
   "cell_type": "markdown",
   "id": "b669afac-c7aa-4213-ac2d-4638282211c4",
   "metadata": {},
   "source": [
    "Try and except statements are used to catch and handle exceptions in Python. Statements that can raise exceptions are kept inside the try clause and the statements that handle the exception are written inside except clause.  \n",
    "Ex-"
   ]
  },
  {
   "cell_type": "code",
   "execution_count": 7,
   "id": "87d09d8b-ca3b-4fce-a3eb-4ee7621ee4eb",
   "metadata": {},
   "outputs": [
    {
     "name": "stdout",
     "output_type": "stream",
     "text": [
      "rahul\n",
      "Key not there\n"
     ]
    }
   ],
   "source": [
    "dic={\"name\":\"rahul\",\"age\":\"13\",\"gender\":\"male\"}\n",
    "try:\n",
    "    print(dic[\"name\"])\n",
    "    print(dic[\"height\"])\n",
    "except:\n",
    "    print(\"Key not there\")"
   ]
  },
  {
   "cell_type": "markdown",
   "id": "fa658ba6-9769-4ed9-bc7d-d6a677b25552",
   "metadata": {},
   "source": [
    "4. "
   ]
  },
  {
   "cell_type": "markdown",
   "id": "3ea2a5e5-894c-4067-8e4f-3d1a9da2d77a",
   "metadata": {},
   "source": [
    "try and else:  \n",
    "The else clause is used on the try-except block which must be present after all the except clauses. The code enters the else block only if the try clause does not raise an exception.  \n",
    "Ex-"
   ]
  },
  {
   "cell_type": "code",
   "execution_count": 12,
   "id": "fe7fccb8-7e0f-4fd9-bb3e-8a836d9be29c",
   "metadata": {},
   "outputs": [
    {
     "name": "stdout",
     "output_type": "stream",
     "text": [
      "Result is: 2.0\n",
      "Error: Denominator is zero\n"
     ]
    }
   ],
   "source": [
    "def find(x):\n",
    "    try:\n",
    "        r=4/x\n",
    "    except:\n",
    "        print(\"Error: Denominator is zero\")\n",
    "    else:\n",
    "        print(\"Result is:\",r)\n",
    "find(2)\n",
    "find(0)"
   ]
  },
  {
   "cell_type": "markdown",
   "id": "4021413d-2bcd-4eb2-b1f1-cc8bf2720c12",
   "metadata": {},
   "source": [
    "finally:  \n",
    "If a finally clause is present, the finally clause will execute as the last task before the try statement completes. The finally clause runs whether or not the try statement produces an exception.\n",
    "Ex-"
   ]
  },
  {
   "cell_type": "code",
   "execution_count": 14,
   "id": "f53ec342-8b72-4846-9934-0aab1b52b792",
   "metadata": {},
   "outputs": [
    {
     "name": "stdout",
     "output_type": "stream",
     "text": [
      "Result is: 2.0\n",
      "Operation terminated\n",
      "\n",
      "Error: Denominator is zero\n",
      "Operation terminated\n",
      "\n"
     ]
    }
   ],
   "source": [
    "def find(x):\n",
    "    try:\n",
    "        r=4/x\n",
    "    except:\n",
    "        print(\"Error: Denominator is zero\")\n",
    "    else:\n",
    "        print(\"Result is:\",r)\n",
    "    finally:\n",
    "        print(\"Operation terminated\\n\")\n",
    "find(2)\n",
    "find(0)"
   ]
  },
  {
   "cell_type": "markdown",
   "id": "da5fff29-f15e-4088-a7e5-95cd252553fa",
   "metadata": {},
   "source": [
    "raise:  \n",
    "The raise statement is used to force a specific exception to occur. The sole argument in raise indicates the exception to be raised. This must be either an exception instance or an exception class (a class that derives from Exception).  \n",
    "Ex-"
   ]
  },
  {
   "cell_type": "code",
   "execution_count": 19,
   "id": "0bdcf6b2-b646-4413-a2b5-ec1ebbb86f66",
   "metadata": {},
   "outputs": [
    {
     "name": "stdout",
     "output_type": "stream",
     "text": [
      "This is except statement\n"
     ]
    },
    {
     "ename": "NameError",
     "evalue": "This is the error",
     "output_type": "error",
     "traceback": [
      "\u001b[0;31m---------------------------------------------------------------------------\u001b[0m",
      "\u001b[0;31mNameError\u001b[0m                                 Traceback (most recent call last)",
      "Cell \u001b[0;32mIn[19], line 2\u001b[0m\n\u001b[1;32m      1\u001b[0m \u001b[38;5;28;01mtry\u001b[39;00m:\n\u001b[0;32m----> 2\u001b[0m \t\u001b[38;5;28;01mraise\u001b[39;00m \u001b[38;5;167;01mNameError\u001b[39;00m(\u001b[38;5;124m\"\u001b[39m\u001b[38;5;124mThis is the error\u001b[39m\u001b[38;5;124m\"\u001b[39m)\n\u001b[1;32m      3\u001b[0m \u001b[38;5;28;01mexcept\u001b[39;00m \u001b[38;5;167;01mNameError\u001b[39;00m:\n\u001b[1;32m      4\u001b[0m \t\u001b[38;5;28mprint\u001b[39m (\u001b[38;5;124m\"\u001b[39m\u001b[38;5;124mThis is except statement\u001b[39m\u001b[38;5;124m\"\u001b[39m)\n",
      "\u001b[0;31mNameError\u001b[0m: This is the error"
     ]
    }
   ],
   "source": [
    "try:\n",
    "\traise NameError(\"This is the error\")\n",
    "except NameError:\n",
    "\tprint (\"This is except statement\")\n",
    "\traise"
   ]
  },
  {
   "cell_type": "markdown",
   "id": "57bc1a92-3812-43ea-812e-3caa684251b5",
   "metadata": {},
   "source": [
    "5. Custom exceptions provide the flexibility to add attributes and methods that are not part of a standard exception. These can store additional information, like an application-specific error code, or provide utility methods that can be used to handle or present the exception to a user. The big advantage is that it allows to throw exceptions that mean what we want them to mean. If an existing exception is reused, any piece of code that catches the exception has to deal with possibility that the actual exception wasn't thrown by our code, but by some other library party code.  \n",
    "Ex-"
   ]
  },
  {
   "cell_type": "code",
   "execution_count": 27,
   "id": "167b66de-d733-4883-b8d6-cf5e5a052852",
   "metadata": {},
   "outputs": [
    {
     "name": "stdin",
     "output_type": "stream",
     "text": [
      "Enter your age:  -2\n"
     ]
    },
    {
     "name": "stdout",
     "output_type": "stream",
     "text": [
      "Exception occurred: Invalid Age\n"
     ]
    }
   ],
   "source": [
    "class InvalidAgeException(Exception):\n",
    "    \"Raised when the input value is negative\"\n",
    "    pass\n",
    "\n",
    "try:\n",
    "    num = int(input(\"Enter your age: \"))\n",
    "    if num < 0:\n",
    "        raise InvalidAgeException\n",
    "    elif num < 18:\n",
    "        print(\"Not eligible to Vote\")\n",
    "    else:\n",
    "        print(\"Eligible to Vote\")\n",
    "        \n",
    "except InvalidAgeException:\n",
    "    print(\"Exception occurred: Invalid Age\")"
   ]
  },
  {
   "cell_type": "markdown",
   "id": "d2ea6319-4009-417e-8c45-36803943f78b",
   "metadata": {},
   "source": [
    "Here I have created a custom exception with the name InvalidAgeException which explains by itself why is this exception being raised."
   ]
  },
  {
   "cell_type": "markdown",
   "id": "6f0c23ae-29ad-40d1-af42-5036c17cde33",
   "metadata": {},
   "source": [
    "6. "
   ]
  },
  {
   "cell_type": "code",
   "execution_count": 34,
   "id": "01e68978-38b7-48f7-97d6-17fcebac6dbb",
   "metadata": {},
   "outputs": [
    {
     "name": "stdin",
     "output_type": "stream",
     "text": [
      "Enter new password:  abc123#\n"
     ]
    },
    {
     "name": "stdout",
     "output_type": "stream",
     "text": [
      "Exception occurred: Given password is not allowed.\n"
     ]
    }
   ],
   "source": [
    "class InvalidPasswordException(Exception):\n",
    "    \"Raised when the given password is not allowed.\"\n",
    "    pass\n",
    "\n",
    "try:\n",
    "    password = input(\"Enter new password: \")\n",
    "    if len(password)<5 or not(password.isalnum()):\n",
    "        raise InvalidPasswordException\n",
    "    else:\n",
    "        print(\"New password set\")\n",
    "        \n",
    "except InvalidPasswordException:\n",
    "    print(\"Exception occurred: Given password is not allowed.\")"
   ]
  }
 ],
 "metadata": {
  "kernelspec": {
   "display_name": "Python 3 (ipykernel)",
   "language": "python",
   "name": "python3"
  },
  "language_info": {
   "codemirror_mode": {
    "name": "ipython",
    "version": 3
   },
   "file_extension": ".py",
   "mimetype": "text/x-python",
   "name": "python",
   "nbconvert_exporter": "python",
   "pygments_lexer": "ipython3",
   "version": "3.10.8"
  }
 },
 "nbformat": 4,
 "nbformat_minor": 5
}
