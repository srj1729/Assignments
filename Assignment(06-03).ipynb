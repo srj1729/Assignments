{
 "cells": [
  {
   "cell_type": "markdown",
   "id": "c6945afb-e4b3-444e-9e3e-308a8528a8d1",
   "metadata": {},
   "source": [
    "### <center> ASSIGNMENT"
   ]
  },
  {
   "cell_type": "markdown",
   "id": "43eafc47-9b53-416b-b3e9-6289d2b42176",
   "metadata": {},
   "source": [
    "1. "
   ]
  },
  {
   "cell_type": "markdown",
   "id": "60cbee8c-49d1-432b-a80c-5fc6dc473185",
   "metadata": {},
   "source": [
    "Statistics is the discipline that concerns the collection, organization, analysis, interpretation, and presentation of data."
   ]
  },
  {
   "cell_type": "markdown",
   "id": "d34a95fe-b17e-40f7-abe8-503cb008a114",
   "metadata": {},
   "source": [
    "2. "
   ]
  },
  {
   "cell_type": "markdown",
   "id": "fb840633-d57d-4f43-95c0-c9e4602d1510",
   "metadata": {},
   "source": [
    "There are two types of statistics -  \n",
    "i. Descriptive statistics  \n",
    "ii. Inferential statistics  \n",
    "\n",
    "Descriptive statistics -  \n",
    "It consists of organising and summarizing data.  \n",
    "Ex - The heights of students in different classes are recorded. When we have to find the mean or median value of height of students in various classes, descriptive statistics can be used.  \n",
    "\n",
    "Inferential statistics -  \n",
    "It consists of using data which has been measured to form conclusions.  \n",
    "Ex - In eections during exit polls some samples of the population data is used to predict election results for the whole population."
   ]
  },
  {
   "cell_type": "markdown",
   "id": "af2a6551-cdb5-451f-b347-a91d572c1df5",
   "metadata": {},
   "source": [
    "3. "
   ]
  },
  {
   "cell_type": "markdown",
   "id": "9aa277cf-5b17-493a-bca1-47108521c340",
   "metadata": {},
   "source": [
    "There are two basic categories of data-  \n",
    "\n",
    "i. Quantitative-  \n",
    "These are data having numerical values. These are further classified into two types-  \n",
    "\n",
    "a. Discrete-  \n",
    "These are data having values as whole numbers.  \n",
    "Ex- Number of subjects in a course.  \n",
    "\n",
    "b. Continuous-  \n",
    "These are data having values as any number.  \n",
    "Ex- Temperature of a region.  \n",
    "\n",
    "ii. Qualtitative-  \n",
    "These are labelled data having categorical values. These are further classified into two types-  \n",
    "\n",
    "a. Nominal-  \n",
    "These are labelled data which have no order or ranking.  \n",
    "Ex-  Genders of people.  \n",
    "\n",
    "b. Ordinal-  \n",
    "These are labelled data which have certain order and ranking.   \n",
    "Ex-  Customer feedback."
   ]
  },
  {
   "cell_type": "markdown",
   "id": "665152e1-591e-4260-9463-acdbe426d70a",
   "metadata": {},
   "source": [
    "4. "
   ]
  },
  {
   "cell_type": "markdown",
   "id": "2efc7763-481c-434f-836a-27b70fbc7ac2",
   "metadata": {},
   "source": [
    "i. Ordinal(Qualitative)  \n",
    "ii. Nominal(Qualitative)  \n",
    "iii. Continuous(Quantitative)  \n",
    "iv. Discrete(Quantitative)"
   ]
  },
  {
   "cell_type": "markdown",
   "id": "dc1679c6-c5fb-40a9-ac5f-60951f419a61",
   "metadata": {},
   "source": [
    "5. "
   ]
  },
  {
   "cell_type": "markdown",
   "id": "db839b8f-aa15-48f1-8a17-0ed347bf6804",
   "metadata": {},
   "source": [
    "There are our scales or levels of measurement-  \n",
    "\n",
    "i. Nominal scale data-  \n",
    "The data contains qualitative and categorical values where order doesn't matter.  \n",
    "Ex- Gender data  \n",
    "\n",
    "ii. Ordinal scale data-  \n",
    "The data contains categorical values where order matters and raning is important but difference cannot be measured.  \n",
    "Ex- Rank in exam  \n",
    "\n",
    "iii. Interval scale data-  \n",
    "The order of the data points matters and difference can be measured but there is no starting point or 0 value and ratio can not be measured.  \n",
    "Ex-  Temperature data  \n",
    "\n",
    "iv. Ratio scale data-  \n",
    "The order of the data points matters and difference can be measured but there is no starting point or 0 value and ratio can not be measured.  \n",
    "Ex-  Rating of a product"
   ]
  },
  {
   "cell_type": "markdown",
   "id": "a409443a-d427-49b6-be05-6d14f2132cba",
   "metadata": {},
   "source": [
    "6. "
   ]
  },
  {
   "cell_type": "markdown",
   "id": "559436a7-e94d-46cb-bde7-ff5fbf5cb247",
   "metadata": {},
   "source": [
    "Knowing the level of measurement of your variables is important for two reasons. Each of the levels of measurement provides a different level of detail. The second reason levels of measurement are important to know is because different statistical tests are appropriate for variables with different levels of measurement. For example, chi-square tests of independence are most appropriate for nominal level data."
   ]
  },
  {
   "cell_type": "markdown",
   "id": "c653cfae-e0f2-4b8a-8125-b50f38bb25fc",
   "metadata": {},
   "source": [
    "7. "
   ]
  },
  {
   "cell_type": "markdown",
   "id": "d0080a93-a52f-45c2-a665-4c0f84d69467",
   "metadata": {},
   "source": [
    "Nominal data types are categorical data types in which there is no order or ranking where as Ordinal data types are categorical data types with certain order and ranking.  \n",
    "Ex- Color value is nominal data whereas product rating is ordinal data."
   ]
  },
  {
   "cell_type": "markdown",
   "id": "9380d235-30b3-4aa8-9a93-75ca9b7652f4",
   "metadata": {},
   "source": [
    "8. "
   ]
  },
  {
   "cell_type": "markdown",
   "id": "b2aa625d-c29c-418f-8dc0-22ace79e5ceb",
   "metadata": {},
   "source": [
    "If the groups depicted in a bar chart are actually continuous numeric ranges, we can push the bars together to generate a histogram. Bar lengths in histograms typically correspond to counts of data points, and their patterns demonstrate the distribution of variables in the data."
   ]
  },
  {
   "cell_type": "markdown",
   "id": "c0ac6431-ace7-43a7-a492-c27670cd6419",
   "metadata": {},
   "source": [
    "9. "
   ]
  },
  {
   "cell_type": "markdown",
   "id": "0d33c7e3-4639-4598-8138-374c8cd40c9a",
   "metadata": {},
   "source": [
    "Descriptive statistics -  \n",
    "It consists of organising and summarizing data.  \n",
    "Ex - The heights of students in different classes are recorded. When we have to find the mean or median value of height of students in various classes, descriptive statistics can be used.  \n",
    "\n",
    "Inferential statistics -  \n",
    "It consists of using data which has been measured to form conclusions.  \n",
    "Ex - In eections during exit polls some samples of the population data is used to predict election results for the whole population."
   ]
  },
  {
   "cell_type": "markdown",
   "id": "7f1f907a-c608-4a00-aa21-2815aaaac2a5",
   "metadata": {},
   "source": [
    "10. "
   ]
  },
  {
   "cell_type": "markdown",
   "id": "9f9c08ee-6acf-4b81-a230-6dd64467c580",
   "metadata": {},
   "source": [
    "Measures of central tendency are summary statistics that represent the center point or typical value of a dataset. Examples of these measures include the mean, median, and mode. These statistics indicate where most values in a distribution fall and are also referred to as the central location of a distribution.  \n",
    "\n",
    "Mean-  \n",
    "The mean is the arithmetic average, and it is probably the measure of central tendency that you are most familiar. Calculating the mean is very simple. You just add up all of the values and divide by the number of observations in your dataset.  \n",
    "Median-  \n",
    "The median is the middle value. It is the value that splits the dataset in half, making it a natural measure of central tendency.  \n",
    "Mode-  \n",
    "The mode is the value that occurs the most frequently in your data set, making it a different type of measure of central tendency than the mean or median.  \n",
    "\n",
    "A measure of variability is a summary statistic that represents the amount of dispersion in a dataset.   \n",
    "\n",
    "Range-  \n",
    "The range of a dataset is the difference between the largest and smallest values in that dataset.  \n",
    "Interquartile range-  \n",
    "The data can be divided into quarters. These quarters are referred as quartiles and are denoted from low to high as Q1, Q2, Q3 and Q4.  \n",
    "Variance-  \n",
    "Variance is the average squared difference of the values from the mean.  \n",
    "Standard Deviation-  \n",
    "The standard deviation is the standard or typical difference between each data point and the mean. The standard deviation is just the square root of the variance."
   ]
  }
 ],
 "metadata": {
  "kernelspec": {
   "display_name": "Python 3 (ipykernel)",
   "language": "python",
   "name": "python3"
  },
  "language_info": {
   "codemirror_mode": {
    "name": "ipython",
    "version": 3
   },
   "file_extension": ".py",
   "mimetype": "text/x-python",
   "name": "python",
   "nbconvert_exporter": "python",
   "pygments_lexer": "ipython3",
   "version": "3.10.8"
  }
 },
 "nbformat": 4,
 "nbformat_minor": 5
}
