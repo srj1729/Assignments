{
 "cells": [
  {
   "cell_type": "markdown",
   "id": "980a1a19-a905-4004-97b8-9a0c2b5377c8",
   "metadata": {},
   "source": [
    "### <center> ASSIGNMENT"
   ]
  },
  {
   "cell_type": "markdown",
   "id": "48df4a8f-07c1-4b9c-8080-39e6d670bfef",
   "metadata": {},
   "source": [
    "1. MongoDB is an open-source document-oriented database that is designed to store a large scale of data and also allows you to work with that data very efficiently. It is categorized under the NoSQL (Not only SQL) database because the storage and retrieval of data in the MongoDB are not in the form of tables.  \n",
    "A non-relational database is a database that does not use the tabular schema of rows and columns found in most traditional database systems. Instead, non-relational databases use a storage model that is optimized for the specific requirements of the type of data being stored. For example, data may be stored as simple key/value pairs, as JSON documents, or as a graph consisting of edges and vertices.  \n",
    "We should use MongoDB over SQL databses in the following cases-  \n",
    "i. When high availability of data with automatic, fast and instant data recovery is required.  \n",
    "ii. When schema is unstable and schema migration cose should be low.  \n",
    "iii. If most of the services are cloud based.  \n",
    "iv. If you don't have a Database Administrator."
   ]
  },
  {
   "cell_type": "markdown",
   "id": "52e2d1b2-7a7b-4ba0-a36d-eee9c61591a3",
   "metadata": {},
   "source": [
    "2. Features of MongoDB are as follows-  \n",
    "i. Schema-less Database: It is the great feature provided by the MongoDB. A Schema-less database means one collection can hold different types of documents in it.  \n",
    "ii. Document Oriented: In MongoDB, all the data stored in the documents instead of tables like in RDBMS. In these documents, the data is stored in fields(key-value pair) instead of rows and columns which make the data much more flexible in comparison to RDBMS.   \n",
    "iii. Indexing: In MongoDB database, every field in the documents is indexed with primary and secondary indices this makes easier and takes less time to get or search data from the pool of the data.   \n",
    "iv. Scalability: MongoDB provides horizontal scalability with the help of sharding. Sharding means to distribute data on multiple servers, here a large amount of data is partitioned into data chunks using the shard key, and these data chunks are evenly distributed across shards that reside across many physical servers.  \n",
    "v. Replication: MongoDB provides high availability and redundancy with the help of replication, it creates multiple copies of the data and sends these copies to a different server so that if one server fails, then the data is retrieved from another server."
   ]
  },
  {
   "cell_type": "markdown",
   "id": "3035f986-2d55-4677-b12d-0940a3321c03",
   "metadata": {},
   "source": [
    "3. Code to connect MongoDB to Python is as follows-  "
   ]
  },
  {
   "cell_type": "code",
   "execution_count": 2,
   "id": "b8725ca9-27b6-4b64-a740-85b5091e06e3",
   "metadata": {},
   "outputs": [
    {
     "name": "stdout",
     "output_type": "stream",
     "text": [
      "Collecting pymongo\n",
      "  Downloading pymongo-4.3.3-cp310-cp310-manylinux_2_17_x86_64.manylinux2014_x86_64.whl (492 kB)\n",
      "\u001b[2K     \u001b[90m━━━━━━━━━━━━━━━━━━━━━━━━━━━━━━━━━━━━━━\u001b[0m \u001b[32m492.9/492.9 kB\u001b[0m \u001b[31m13.3 MB/s\u001b[0m eta \u001b[36m0:00:00\u001b[0m00:01\u001b[0m\n",
      "\u001b[?25hCollecting dnspython<3.0.0,>=1.16.0\n",
      "  Downloading dnspython-2.3.0-py3-none-any.whl (283 kB)\n",
      "\u001b[2K     \u001b[90m━━━━━━━━━━━━━━━━━━━━━━━━━━━━━━━━━━━━━━\u001b[0m \u001b[32m283.7/283.7 kB\u001b[0m \u001b[31m37.6 MB/s\u001b[0m eta \u001b[36m0:00:00\u001b[0m\n",
      "\u001b[?25hInstalling collected packages: dnspython, pymongo\n",
      "Successfully installed dnspython-2.3.0 pymongo-4.3.3\n",
      "Note: you may need to restart the kernel to use updated packages.\n"
     ]
    }
   ],
   "source": [
    "pip install pymongo"
   ]
  },
  {
   "cell_type": "code",
   "execution_count": null,
   "id": "f371dac9-b754-4872-9f8d-417785d94b5a",
   "metadata": {},
   "outputs": [],
   "source": [
    "import pymongo\n",
    "\n",
    "client = pymongo.MongoClient(\"mongodb+srv://<username>:<password>@cluster0.avf5chi.mongodb.net/?retryWrites=true&w=majority\")\n",
    "\n",
    "db=client[\"assignment\"]\n",
    "\n",
    "coll=db[\"info\"]"
   ]
  },
  {
   "cell_type": "markdown",
   "id": "0889ce39-113f-4e6b-81f9-ba73b49492fd",
   "metadata": {},
   "source": [
    "4. "
   ]
  },
  {
   "cell_type": "code",
   "execution_count": 5,
   "id": "6442f7a8-8472-47c3-9e0d-1820bec0badf",
   "metadata": {},
   "outputs": [
    {
     "data": {
      "text/plain": [
       "{'_id': ObjectId('63fc81bd5de361c4b8a5afe0'),\n",
       " 'name': 'shashwat',\n",
       " 'course': 'btech',\n",
       " 'subject': 'machine learning'}"
      ]
     },
     "execution_count": 5,
     "metadata": {},
     "output_type": "execute_result"
    }
   ],
   "source": [
    "data={\"name\":\"shashwat\",\n",
    "      \"course\":\"btech\",\n",
    "      \"subject\":\"machine learning\"}\n",
    "\n",
    "coll.insert_one(data)\n",
    "\n",
    "coll.find_one()"
   ]
  },
  {
   "cell_type": "code",
   "execution_count": 6,
   "id": "a1393020-fc25-4315-a7ce-1700ef7f64c5",
   "metadata": {},
   "outputs": [
    {
     "name": "stdout",
     "output_type": "stream",
     "text": [
      "{'_id': ObjectId('63fc81bd5de361c4b8a5afe0'), 'name': 'shashwat', 'course': 'btech', 'subject': 'machine learning'}\n",
      "{'_id': '1', 'name': 'shashwat', 'course': 'btech', 'subject': 'machine learning'}\n",
      "{'_id': '2', 'name': 'shash', 'course': 'btech', 'subject': 'machine learning'}\n",
      "{'_id': '3', 'name': 'sha', 'course': 'btech', 'subject': 'machine learning'}\n"
     ]
    }
   ],
   "source": [
    "lst=[\n",
    "    {\"_id\":\"1\",\n",
    "     \"name\":\"shashwat\",\n",
    "      \"course\":\"btech\",\n",
    "      \"subject\":\"machine learning\"},\n",
    "    {\"_id\":\"2\",\n",
    "     \"name\":\"shash\",\n",
    "      \"course\":\"btech\",\n",
    "      \"subject\":\"machine learning\"},\n",
    "    {\"_id\":\"3\",\n",
    "     \"name\":\"sha\",\n",
    "      \"course\":\"btech\",\n",
    "      \"subject\":\"machine learning\"}\n",
    "]\n",
    "\n",
    "coll.insert_many(lst)\n",
    "\n",
    "for x in coll.find():\n",
    "    print(x)"
   ]
  },
  {
   "cell_type": "markdown",
   "id": "551e9587-605a-4f5a-981c-65aa5a1626e6",
   "metadata": {},
   "source": [
    "5. In MongoDB, find() method is used to select documents in a collection and return a cursor to the selected documents. Cursor means a pointer that points to a document, when we use find() method it returns a pointer on the selected documents and returns one by one. Certain conditions can also be provided inside the method to filter out the documents.  \n",
    "Ex-"
   ]
  },
  {
   "cell_type": "code",
   "execution_count": 7,
   "id": "d850117d-b771-4c78-a8eb-61eed9f9e367",
   "metadata": {},
   "outputs": [
    {
     "name": "stdout",
     "output_type": "stream",
     "text": [
      "{'_id': '1', 'name': 'shashwat', 'course': 'btech', 'subject': 'machine learning'}\n",
      "{'_id': '2', 'name': 'shash', 'course': 'btech', 'subject': 'machine learning'}\n"
     ]
    }
   ],
   "source": [
    "#This prints the documents where the _id value is greater than equal to 1 and less than equal to 2.\n",
    "\n",
    "for x in coll.find({\"$and\":[{\"_id\":{\"$gte\":\"1\"}},{\"_id\":{\"$lte\":\"2\"}}]}):\n",
    "    print(x)"
   ]
  },
  {
   "cell_type": "markdown",
   "id": "d82bb170-9bc3-4bc1-a401-d32145425aa4",
   "metadata": {},
   "source": [
    "6. The sort() method specifies the order in which the query returns the matching documents from the given collection. You must apply this method to the cursor before retrieving any documents from the database. It takes a document as a parameter that contains a field: value pair that defines the sort order of the result set. The value is 1 or -1 specify an ascending or descending sort respectively.Ex-  "
   ]
  },
  {
   "cell_type": "code",
   "execution_count": 19,
   "id": "210ee4a3-18ad-4ca2-9ded-36367413a032",
   "metadata": {},
   "outputs": [
    {
     "name": "stdout",
     "output_type": "stream",
     "text": [
      "{'_id': ObjectId('63fc81bd5de361c4b8a5afe0'), 'name': 'shashwat', 'course': 'btech', 'subject': 'machine learning'}\n",
      "{'_id': '3', 'name': 'sha', 'course': 'btech', 'subject': 'machine learning'}\n",
      "{'_id': '2', 'name': 'shash', 'course': 'btech', 'subject': 'machine learning'}\n",
      "{'_id': '1', 'name': 'shashwat', 'course': 'btech', 'subject': 'machine learning'}\n"
     ]
    }
   ],
   "source": [
    "for x in coll.find().sort(\"_id\",-1):\n",
    "    print(x)"
   ]
  },
  {
   "cell_type": "code",
   "execution_count": 20,
   "id": "a4c28628-54d2-4d47-8150-63a501f3a949",
   "metadata": {},
   "outputs": [
    {
     "name": "stdout",
     "output_type": "stream",
     "text": [
      "{'_id': '3', 'name': 'sha', 'course': 'btech', 'subject': 'machine learning'}\n",
      "{'_id': '2', 'name': 'shash', 'course': 'btech', 'subject': 'machine learning'}\n",
      "{'_id': ObjectId('63fc81bd5de361c4b8a5afe0'), 'name': 'shashwat', 'course': 'btech', 'subject': 'machine learning'}\n",
      "{'_id': '1', 'name': 'shashwat', 'course': 'btech', 'subject': 'machine learning'}\n"
     ]
    }
   ],
   "source": [
    "for x in coll.find().sort(\"name\",1):\n",
    "    print(x)"
   ]
  },
  {
   "cell_type": "markdown",
   "id": "afac4ae1-3f12-4cdc-bc90-63a0cd7d3006",
   "metadata": {},
   "source": [
    "7.\n",
    "\n",
    "delete_one() -  \n",
    "A single document can be deleted by the method delete_one(). The first parameter of the method would be a query object which defines the document to be deleted. If there are multiple documents matching the filter query, only the first appeared document would be deleted.  \n",
    "\n",
    "delete_many() -  \n",
    "delete_many() is used when one needs to delete more than one document. A query object containing which document to be deleted is created and is passed as the first parameter to the delete_many().  \n",
    "\n",
    "drop() -  \n",
    "drop() removes a collection or view from the database. The method also removes any indexes associated with the dropped collection. The method provides a wrapper around the drop command.  \n",
    "\n",
    "Ex-  "
   ]
  },
  {
   "cell_type": "code",
   "execution_count": 21,
   "id": "aae3b0c0-58a0-4d2b-804f-109e61b6b90a",
   "metadata": {},
   "outputs": [
    {
     "data": {
      "text/plain": [
       "<pymongo.results.DeleteResult at 0x7faa05b37fd0>"
      ]
     },
     "execution_count": 21,
     "metadata": {},
     "output_type": "execute_result"
    }
   ],
   "source": [
    "coll.delete_one({'name': 'sha'})"
   ]
  },
  {
   "cell_type": "code",
   "execution_count": 22,
   "id": "9cc2bd06-3268-4ec7-ad0e-98394c5b3f88",
   "metadata": {},
   "outputs": [
    {
     "name": "stdout",
     "output_type": "stream",
     "text": [
      "{'_id': ObjectId('63fc81bd5de361c4b8a5afe0'), 'name': 'shashwat', 'course': 'btech', 'subject': 'machine learning'}\n",
      "{'_id': '1', 'name': 'shashwat', 'course': 'btech', 'subject': 'machine learning'}\n",
      "{'_id': '2', 'name': 'shash', 'course': 'btech', 'subject': 'machine learning'}\n"
     ]
    }
   ],
   "source": [
    "for x in coll.find():\n",
    "    print(x)"
   ]
  },
  {
   "cell_type": "code",
   "execution_count": 23,
   "id": "cf32b6e7-024e-483a-b537-92702300564c",
   "metadata": {},
   "outputs": [
    {
     "data": {
      "text/plain": [
       "<pymongo.results.DeleteResult at 0x7faa05b37b80>"
      ]
     },
     "execution_count": 23,
     "metadata": {},
     "output_type": "execute_result"
    }
   ],
   "source": [
    "coll.delete_many({\"_id\":{\"$gte\":\"2\"}})"
   ]
  },
  {
   "cell_type": "code",
   "execution_count": 24,
   "id": "5e396a38-9a74-4ac1-9983-c6026fcbd91d",
   "metadata": {},
   "outputs": [
    {
     "name": "stdout",
     "output_type": "stream",
     "text": [
      "{'_id': ObjectId('63fc81bd5de361c4b8a5afe0'), 'name': 'shashwat', 'course': 'btech', 'subject': 'machine learning'}\n",
      "{'_id': '1', 'name': 'shashwat', 'course': 'btech', 'subject': 'machine learning'}\n"
     ]
    }
   ],
   "source": [
    "for x in coll.find():\n",
    "    print(x)"
   ]
  },
  {
   "cell_type": "code",
   "execution_count": 25,
   "id": "a73f054d-e713-47b1-a97b-f802fead04d1",
   "metadata": {},
   "outputs": [],
   "source": [
    "coll.drop()"
   ]
  },
  {
   "cell_type": "code",
   "execution_count": 26,
   "id": "a79c00f6-95fd-4066-9ab7-fb7e722353ec",
   "metadata": {},
   "outputs": [],
   "source": [
    "for x in coll.find():\n",
    "    print(x)"
   ]
  }
 ],
 "metadata": {
  "kernelspec": {
   "display_name": "Python 3 (ipykernel)",
   "language": "python",
   "name": "python3"
  },
  "language_info": {
   "codemirror_mode": {
    "name": "ipython",
    "version": 3
   },
   "file_extension": ".py",
   "mimetype": "text/x-python",
   "name": "python",
   "nbconvert_exporter": "python",
   "pygments_lexer": "ipython3",
   "version": "3.10.8"
  }
 },
 "nbformat": 4,
 "nbformat_minor": 5
}
