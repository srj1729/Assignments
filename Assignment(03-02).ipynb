{
 "cells": [
  {
   "cell_type": "markdown",
   "id": "dcd77b3c-6327-432d-9867-079e09a2b83d",
   "metadata": {},
   "source": [
    "### <center> ASSIGNMENT"
   ]
  },
  {
   "cell_type": "markdown",
   "id": "30bd6bf3-7d50-4a70-a4b0-d9f578dfd3eb",
   "metadata": {},
   "source": [
    "1. def keyword is used to create a function in Python."
   ]
  },
  {
   "cell_type": "code",
   "execution_count": 2,
   "id": "26738edd-b85a-4061-9544-d8ce5ea9b6fc",
   "metadata": {},
   "outputs": [
    {
     "data": {
      "text/plain": [
       "[1, 3, 5, 7, 9, 11, 13, 15, 17, 19, 21, 23, 25]"
      ]
     },
     "execution_count": 2,
     "metadata": {},
     "output_type": "execute_result"
    }
   ],
   "source": [
    "def func():\n",
    "    list=[]\n",
    "    for i in range(1,26):\n",
    "        if i%2!=0:\n",
    "            list.append(i)\n",
    "    return list\n",
    "\n",
    "func()"
   ]
  },
  {
   "cell_type": "markdown",
   "id": "b54d44a1-bc30-49e4-81aa-593a03f0558c",
   "metadata": {},
   "source": [
    "2. *args is used to pass variable number of arguments to a function.\n",
    "Ex-"
   ]
  },
  {
   "cell_type": "code",
   "execution_count": 6,
   "id": "b738c5f4-dfea-41b7-bd3d-d62ccf4165ca",
   "metadata": {},
   "outputs": [
    {
     "name": "stdout",
     "output_type": "stream",
     "text": [
      "[2, 6, 26, 35]\n",
      "[4, 7, 20]\n"
     ]
    }
   ],
   "source": [
    "def func(*args):\n",
    "    list=[]\n",
    "    for i in args:\n",
    "        list.append(i+1)\n",
    "    return list\n",
    "\n",
    "print(func(1,5,25,34))\n",
    "print(func(3,6,19))"
   ]
  },
  {
   "cell_type": "markdown",
   "id": "72866cd0-8d26-400f-a85f-e1f487105599",
   "metadata": {},
   "source": [
    "**args is used to pass variable number of arguments to a function but  the arguments, in this case, are passed as a dictionary and these arguments make a dictionary inside the function with name same as the parameter excluding **.\n",
    "Ex-"
   ]
  },
  {
   "cell_type": "code",
   "execution_count": 14,
   "id": "8342308b-a28e-4d0e-9392-a8495b6172fe",
   "metadata": {},
   "outputs": [
    {
     "data": {
      "text/plain": [
       "{'name': 'Rahul', 'roll': 16, 'subject': 'Data Science'}"
      ]
     },
     "execution_count": 14,
     "metadata": {},
     "output_type": "execute_result"
    }
   ],
   "source": [
    "def func(**kwargs):\n",
    "    return kwargs\n",
    "\n",
    "func(name='Rahul',roll=16,subject='Data Science')"
   ]
  },
  {
   "cell_type": "markdown",
   "id": "72c9398c-b145-4036-8209-e175e17edde9",
   "metadata": {},
   "source": [
    "3. Iterator in Python is an object that is used to iterate over iterable objects like lists, tuples, dicts, and sets. The iterator object is initialized using the iter() method. It uses the next() method for iteration."
   ]
  },
  {
   "cell_type": "code",
   "execution_count": 15,
   "id": "15b7ff6e-8fef-4f4e-b300-58c4840096cc",
   "metadata": {},
   "outputs": [
    {
     "name": "stdout",
     "output_type": "stream",
     "text": [
      "2\n",
      "4\n",
      "6\n",
      "8\n",
      "10\n"
     ]
    }
   ],
   "source": [
    "list=[2, 4, 6, 8, 10, 12, 14,16, 18, 20]\n",
    "iterator=iter(list)\n",
    "for i in range(5):\n",
    "    print(next(iterator))"
   ]
  },
  {
   "cell_type": "markdown",
   "id": "220c15dd-3b02-4c50-9c11-b4fc300cadcf",
   "metadata": {},
   "source": [
    "4. the yield keyword turns any expression that is given with it into a generator object and returns it to the caller. Therefore, you must iterate over the generator object if you wish to obtain the values stored there. Here is an example-"
   ]
  },
  {
   "cell_type": "code",
   "execution_count": 17,
   "id": "62e1349b-cfbb-4eca-a4d4-1834b9131d68",
   "metadata": {},
   "outputs": [
    {
     "name": "stdout",
     "output_type": "stream",
     "text": [
      "0 1 2 3 4 "
     ]
    }
   ],
   "source": [
    "def print5():\n",
    "    for i in range(5):\n",
    "        yield i\n",
    "\n",
    "for i in print5():\n",
    "    print(i, end=\" \")"
   ]
  },
  {
   "cell_type": "markdown",
   "id": "96fb6f94-0fc4-4719-8598-b6289f54b2bb",
   "metadata": {},
   "source": [
    "5. "
   ]
  },
  {
   "cell_type": "code",
   "execution_count": 31,
   "id": "afa743b6-2044-4e31-bfb9-34fe04668105",
   "metadata": {},
   "outputs": [
    {
     "name": "stdout",
     "output_type": "stream",
     "text": [
      "2\n",
      "3\n",
      "5\n",
      "7\n",
      "11\n",
      "13\n",
      "17\n",
      "19\n",
      "23\n",
      "29\n",
      "31\n",
      "37\n",
      "41\n",
      "43\n",
      "47\n",
      "53\n",
      "59\n",
      "61\n",
      "67\n",
      "71\n"
     ]
    }
   ],
   "source": [
    "import math\n",
    "def findPrime():\n",
    "    list=[2]\n",
    "    for i in range(3,1000):\n",
    "        for j in range(2,math.floor(math.sqrt(i))+1):\n",
    "            if i%j==0:\n",
    "                break\n",
    "        else:\n",
    "            list.append(i)\n",
    "    return list\n",
    "\n",
    "iterator=iter(findPrime())\n",
    "for i in range(20):\n",
    "    print(next(iterator))"
   ]
  },
  {
   "cell_type": "markdown",
   "id": "000938e7-6a38-4973-9777-7e2fd2592257",
   "metadata": {},
   "source": [
    "6. "
   ]
  },
  {
   "cell_type": "code",
   "execution_count": 33,
   "id": "40ede1b4-3a16-40dc-9624-e94e7793961c",
   "metadata": {},
   "outputs": [
    {
     "name": "stdout",
     "output_type": "stream",
     "text": [
      "0 1 1 2 3 5 8 13 21 34 "
     ]
    }
   ],
   "source": [
    "count=0\n",
    "a,b=0,1\n",
    "while count<10:\n",
    "    print(a,end=' ')\n",
    "    c=a+b\n",
    "    a=b\n",
    "    b=c\n",
    "    count+=1"
   ]
  },
  {
   "cell_type": "markdown",
   "id": "239c984f-3688-4292-abd2-d7c5054f94db",
   "metadata": {},
   "source": [
    "7. "
   ]
  },
  {
   "cell_type": "code",
   "execution_count": 34,
   "id": "438b4eec-d562-4b83-8f0f-a809828d1d73",
   "metadata": {},
   "outputs": [
    {
     "data": {
      "text/plain": [
       "['p', 'w', 's', 'k', 'i', 'l', 'l', 's']"
      ]
     },
     "execution_count": 34,
     "metadata": {},
     "output_type": "execute_result"
    }
   ],
   "source": [
    "[i for i in 'pwskills']"
   ]
  },
  {
   "cell_type": "markdown",
   "id": "231bef9a-c792-4524-9235-7ac2f02113e9",
   "metadata": {},
   "source": [
    "8. "
   ]
  },
  {
   "cell_type": "code",
   "execution_count": 6,
   "id": "97389e0b-192c-4b7c-898a-5fabd1b92886",
   "metadata": {},
   "outputs": [
    {
     "name": "stdin",
     "output_type": "stream",
     "text": [
      " 1234321\n"
     ]
    },
    {
     "name": "stdout",
     "output_type": "stream",
     "text": [
      "Palindrome\n"
     ]
    }
   ],
   "source": [
    "num=int(input())\n",
    "num=str(num)\n",
    "i=0\n",
    "while i<len(num)//2:\n",
    "    if num[i]!=num[-(i+1)]:\n",
    "        print('Not a palindrome')\n",
    "        break\n",
    "    i+=1\n",
    "else:\n",
    "    print('Palindrome')"
   ]
  },
  {
   "cell_type": "markdown",
   "id": "d8b43fe8-0b3b-46f5-aa73-a54036f1ee2d",
   "metadata": {},
   "source": [
    "9. "
   ]
  },
  {
   "cell_type": "code",
   "execution_count": 10,
   "id": "dbeb4aaf-9a2c-40fb-82b0-5fce10a5069a",
   "metadata": {},
   "outputs": [
    {
     "name": "stdout",
     "output_type": "stream",
     "text": [
      "[1, 3, 5, 7, 9, 11, 13, 15, 17, 19, 21, 23, 25, 27, 29, 31, 33, 35, 37, 39, 41, 43, 45, 47, 49, 51, 53, 55, 57, 59, 61, 63, 65, 67, 69, 71, 73, 75, 77, 79, 81, 83, 85, 87, 89, 91, 93, 95, 97, 99]\n"
     ]
    }
   ],
   "source": [
    "list=[i for i in range(1,101)]\n",
    "list=[i for i in list if i%2!=0]\n",
    "print(list)"
   ]
  }
 ],
 "metadata": {
  "kernelspec": {
   "display_name": "Python 3 (ipykernel)",
   "language": "python",
   "name": "python3"
  },
  "language_info": {
   "codemirror_mode": {
    "name": "ipython",
    "version": 3
   },
   "file_extension": ".py",
   "mimetype": "text/x-python",
   "name": "python",
   "nbconvert_exporter": "python",
   "pygments_lexer": "ipython3",
   "version": "3.10.8"
  }
 },
 "nbformat": 4,
 "nbformat_minor": 5
}
